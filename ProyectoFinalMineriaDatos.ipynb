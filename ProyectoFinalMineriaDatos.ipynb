{
  "nbformat": 4,
  "nbformat_minor": 0,
  "metadata": {
    "colab": {
      "provenance": []
    },
    "kernelspec": {
      "name": "python3",
      "display_name": "Python 3"
    },
    "language_info": {
      "name": "python"
    }
  },
  "cells": [
    {
      "cell_type": "markdown",
      "source": [
        "# Algoritmo de clasificación para predecir diabetes."
      ],
      "metadata": {
        "id": "XBMxRC0h1HsA"
      }
    },
    {
      "cell_type": "code",
      "source": [
        "import pandas as pd\n",
        "import numpy as np\n",
        "from sklearn.tree import DecisionTreeClassifier\n",
        "from sklearn.model_selection import train_test_split"
      ],
      "metadata": {
        "id": "2X6X5TJm2SZC"
      },
      "execution_count": 333,
      "outputs": []
    },
    {
      "cell_type": "code",
      "source": [
        "datos = pd.read_csv('diabetes.csv')\n",
        "datos.head()"
      ],
      "metadata": {
        "colab": {
          "base_uri": "https://localhost:8080/",
          "height": 206
        },
        "id": "LN1NTITU51lm",
        "outputId": "69e68839-f539-4c7d-f329-9a352faf1a76"
      },
      "execution_count": 334,
      "outputs": [
        {
          "output_type": "execute_result",
          "data": {
            "text/plain": [
              "   Pregnancies  Glucose  BloodPressure  SkinThickness  Insulin   BMI  \\\n",
              "0            6      148             72             35        0  33.6   \n",
              "1            1       85             66             29        0  26.6   \n",
              "2            8      183             64              0        0  23.3   \n",
              "3            1       89             66             23       94  28.1   \n",
              "4            0      137             40             35      168  43.1   \n",
              "\n",
              "   DiabetesPedigreeFunction  Age  Outcome  \n",
              "0                     0.627   50        1  \n",
              "1                     0.351   31        0  \n",
              "2                     0.672   32        1  \n",
              "3                     0.167   21        0  \n",
              "4                     2.288   33        1  "
            ],
            "text/html": [
              "\n",
              "  <div id=\"df-39a06af7-c544-4c49-ad4a-172bffa7761d\">\n",
              "    <div class=\"colab-df-container\">\n",
              "      <div>\n",
              "<style scoped>\n",
              "    .dataframe tbody tr th:only-of-type {\n",
              "        vertical-align: middle;\n",
              "    }\n",
              "\n",
              "    .dataframe tbody tr th {\n",
              "        vertical-align: top;\n",
              "    }\n",
              "\n",
              "    .dataframe thead th {\n",
              "        text-align: right;\n",
              "    }\n",
              "</style>\n",
              "<table border=\"1\" class=\"dataframe\">\n",
              "  <thead>\n",
              "    <tr style=\"text-align: right;\">\n",
              "      <th></th>\n",
              "      <th>Pregnancies</th>\n",
              "      <th>Glucose</th>\n",
              "      <th>BloodPressure</th>\n",
              "      <th>SkinThickness</th>\n",
              "      <th>Insulin</th>\n",
              "      <th>BMI</th>\n",
              "      <th>DiabetesPedigreeFunction</th>\n",
              "      <th>Age</th>\n",
              "      <th>Outcome</th>\n",
              "    </tr>\n",
              "  </thead>\n",
              "  <tbody>\n",
              "    <tr>\n",
              "      <th>0</th>\n",
              "      <td>6</td>\n",
              "      <td>148</td>\n",
              "      <td>72</td>\n",
              "      <td>35</td>\n",
              "      <td>0</td>\n",
              "      <td>33.6</td>\n",
              "      <td>0.627</td>\n",
              "      <td>50</td>\n",
              "      <td>1</td>\n",
              "    </tr>\n",
              "    <tr>\n",
              "      <th>1</th>\n",
              "      <td>1</td>\n",
              "      <td>85</td>\n",
              "      <td>66</td>\n",
              "      <td>29</td>\n",
              "      <td>0</td>\n",
              "      <td>26.6</td>\n",
              "      <td>0.351</td>\n",
              "      <td>31</td>\n",
              "      <td>0</td>\n",
              "    </tr>\n",
              "    <tr>\n",
              "      <th>2</th>\n",
              "      <td>8</td>\n",
              "      <td>183</td>\n",
              "      <td>64</td>\n",
              "      <td>0</td>\n",
              "      <td>0</td>\n",
              "      <td>23.3</td>\n",
              "      <td>0.672</td>\n",
              "      <td>32</td>\n",
              "      <td>1</td>\n",
              "    </tr>\n",
              "    <tr>\n",
              "      <th>3</th>\n",
              "      <td>1</td>\n",
              "      <td>89</td>\n",
              "      <td>66</td>\n",
              "      <td>23</td>\n",
              "      <td>94</td>\n",
              "      <td>28.1</td>\n",
              "      <td>0.167</td>\n",
              "      <td>21</td>\n",
              "      <td>0</td>\n",
              "    </tr>\n",
              "    <tr>\n",
              "      <th>4</th>\n",
              "      <td>0</td>\n",
              "      <td>137</td>\n",
              "      <td>40</td>\n",
              "      <td>35</td>\n",
              "      <td>168</td>\n",
              "      <td>43.1</td>\n",
              "      <td>2.288</td>\n",
              "      <td>33</td>\n",
              "      <td>1</td>\n",
              "    </tr>\n",
              "  </tbody>\n",
              "</table>\n",
              "</div>\n",
              "      <button class=\"colab-df-convert\" onclick=\"convertToInteractive('df-39a06af7-c544-4c49-ad4a-172bffa7761d')\"\n",
              "              title=\"Convert this dataframe to an interactive table.\"\n",
              "              style=\"display:none;\">\n",
              "        \n",
              "  <svg xmlns=\"http://www.w3.org/2000/svg\" height=\"24px\"viewBox=\"0 0 24 24\"\n",
              "       width=\"24px\">\n",
              "    <path d=\"M0 0h24v24H0V0z\" fill=\"none\"/>\n",
              "    <path d=\"M18.56 5.44l.94 2.06.94-2.06 2.06-.94-2.06-.94-.94-2.06-.94 2.06-2.06.94zm-11 1L8.5 8.5l.94-2.06 2.06-.94-2.06-.94L8.5 2.5l-.94 2.06-2.06.94zm10 10l.94 2.06.94-2.06 2.06-.94-2.06-.94-.94-2.06-.94 2.06-2.06.94z\"/><path d=\"M17.41 7.96l-1.37-1.37c-.4-.4-.92-.59-1.43-.59-.52 0-1.04.2-1.43.59L10.3 9.45l-7.72 7.72c-.78.78-.78 2.05 0 2.83L4 21.41c.39.39.9.59 1.41.59.51 0 1.02-.2 1.41-.59l7.78-7.78 2.81-2.81c.8-.78.8-2.07 0-2.86zM5.41 20L4 18.59l7.72-7.72 1.47 1.35L5.41 20z\"/>\n",
              "  </svg>\n",
              "      </button>\n",
              "      \n",
              "  <style>\n",
              "    .colab-df-container {\n",
              "      display:flex;\n",
              "      flex-wrap:wrap;\n",
              "      gap: 12px;\n",
              "    }\n",
              "\n",
              "    .colab-df-convert {\n",
              "      background-color: #E8F0FE;\n",
              "      border: none;\n",
              "      border-radius: 50%;\n",
              "      cursor: pointer;\n",
              "      display: none;\n",
              "      fill: #1967D2;\n",
              "      height: 32px;\n",
              "      padding: 0 0 0 0;\n",
              "      width: 32px;\n",
              "    }\n",
              "\n",
              "    .colab-df-convert:hover {\n",
              "      background-color: #E2EBFA;\n",
              "      box-shadow: 0px 1px 2px rgba(60, 64, 67, 0.3), 0px 1px 3px 1px rgba(60, 64, 67, 0.15);\n",
              "      fill: #174EA6;\n",
              "    }\n",
              "\n",
              "    [theme=dark] .colab-df-convert {\n",
              "      background-color: #3B4455;\n",
              "      fill: #D2E3FC;\n",
              "    }\n",
              "\n",
              "    [theme=dark] .colab-df-convert:hover {\n",
              "      background-color: #434B5C;\n",
              "      box-shadow: 0px 1px 3px 1px rgba(0, 0, 0, 0.15);\n",
              "      filter: drop-shadow(0px 1px 2px rgba(0, 0, 0, 0.3));\n",
              "      fill: #FFFFFF;\n",
              "    }\n",
              "  </style>\n",
              "\n",
              "      <script>\n",
              "        const buttonEl =\n",
              "          document.querySelector('#df-39a06af7-c544-4c49-ad4a-172bffa7761d button.colab-df-convert');\n",
              "        buttonEl.style.display =\n",
              "          google.colab.kernel.accessAllowed ? 'block' : 'none';\n",
              "\n",
              "        async function convertToInteractive(key) {\n",
              "          const element = document.querySelector('#df-39a06af7-c544-4c49-ad4a-172bffa7761d');\n",
              "          const dataTable =\n",
              "            await google.colab.kernel.invokeFunction('convertToInteractive',\n",
              "                                                     [key], {});\n",
              "          if (!dataTable) return;\n",
              "\n",
              "          const docLinkHtml = 'Like what you see? Visit the ' +\n",
              "            '<a target=\"_blank\" href=https://colab.research.google.com/notebooks/data_table.ipynb>data table notebook</a>'\n",
              "            + ' to learn more about interactive tables.';\n",
              "          element.innerHTML = '';\n",
              "          dataTable['output_type'] = 'display_data';\n",
              "          await google.colab.output.renderOutput(dataTable, element);\n",
              "          const docLink = document.createElement('div');\n",
              "          docLink.innerHTML = docLinkHtml;\n",
              "          element.appendChild(docLink);\n",
              "        }\n",
              "      </script>\n",
              "    </div>\n",
              "  </div>\n",
              "  "
            ]
          },
          "metadata": {},
          "execution_count": 334
        }
      ]
    },
    {
      "cell_type": "markdown",
      "source": [
        "### Limpieza de datos"
      ],
      "metadata": {
        "id": "8bB-Dhlc3jxb"
      }
    },
    {
      "cell_type": "markdown",
      "source": [
        "como el numero de embarazos que ha tenido y el grosor de la piel no son factores que afecten mucho en la deteccion de la diabetes podemos quitar estas columnas"
      ],
      "metadata": {
        "id": "mqWEQHwT4Iay"
      }
    },
    {
      "cell_type": "code",
      "source": [
        "datos = datos.drop(columns=['Pregnancies', 'SkinThickness'])\n",
        "datos"
      ],
      "metadata": {
        "colab": {
          "base_uri": "https://localhost:8080/",
          "height": 424
        },
        "id": "0fhkVXrL3hrF",
        "outputId": "f9e0cb11-a688-4fff-c96e-e63cc9f42dc9"
      },
      "execution_count": 335,
      "outputs": [
        {
          "output_type": "execute_result",
          "data": {
            "text/plain": [
              "     Glucose  BloodPressure  Insulin   BMI  DiabetesPedigreeFunction  Age  \\\n",
              "0        148             72        0  33.6                     0.627   50   \n",
              "1         85             66        0  26.6                     0.351   31   \n",
              "2        183             64        0  23.3                     0.672   32   \n",
              "3         89             66       94  28.1                     0.167   21   \n",
              "4        137             40      168  43.1                     2.288   33   \n",
              "..       ...            ...      ...   ...                       ...  ...   \n",
              "763      101             76      180  32.9                     0.171   63   \n",
              "764      122             70        0  36.8                     0.340   27   \n",
              "765      121             72      112  26.2                     0.245   30   \n",
              "766      126             60        0  30.1                     0.349   47   \n",
              "767       93             70        0  30.4                     0.315   23   \n",
              "\n",
              "     Outcome  \n",
              "0          1  \n",
              "1          0  \n",
              "2          1  \n",
              "3          0  \n",
              "4          1  \n",
              "..       ...  \n",
              "763        0  \n",
              "764        0  \n",
              "765        0  \n",
              "766        1  \n",
              "767        0  \n",
              "\n",
              "[768 rows x 7 columns]"
            ],
            "text/html": [
              "\n",
              "  <div id=\"df-fbceb5a1-6607-4da8-915a-c4f845c840ea\">\n",
              "    <div class=\"colab-df-container\">\n",
              "      <div>\n",
              "<style scoped>\n",
              "    .dataframe tbody tr th:only-of-type {\n",
              "        vertical-align: middle;\n",
              "    }\n",
              "\n",
              "    .dataframe tbody tr th {\n",
              "        vertical-align: top;\n",
              "    }\n",
              "\n",
              "    .dataframe thead th {\n",
              "        text-align: right;\n",
              "    }\n",
              "</style>\n",
              "<table border=\"1\" class=\"dataframe\">\n",
              "  <thead>\n",
              "    <tr style=\"text-align: right;\">\n",
              "      <th></th>\n",
              "      <th>Glucose</th>\n",
              "      <th>BloodPressure</th>\n",
              "      <th>Insulin</th>\n",
              "      <th>BMI</th>\n",
              "      <th>DiabetesPedigreeFunction</th>\n",
              "      <th>Age</th>\n",
              "      <th>Outcome</th>\n",
              "    </tr>\n",
              "  </thead>\n",
              "  <tbody>\n",
              "    <tr>\n",
              "      <th>0</th>\n",
              "      <td>148</td>\n",
              "      <td>72</td>\n",
              "      <td>0</td>\n",
              "      <td>33.6</td>\n",
              "      <td>0.627</td>\n",
              "      <td>50</td>\n",
              "      <td>1</td>\n",
              "    </tr>\n",
              "    <tr>\n",
              "      <th>1</th>\n",
              "      <td>85</td>\n",
              "      <td>66</td>\n",
              "      <td>0</td>\n",
              "      <td>26.6</td>\n",
              "      <td>0.351</td>\n",
              "      <td>31</td>\n",
              "      <td>0</td>\n",
              "    </tr>\n",
              "    <tr>\n",
              "      <th>2</th>\n",
              "      <td>183</td>\n",
              "      <td>64</td>\n",
              "      <td>0</td>\n",
              "      <td>23.3</td>\n",
              "      <td>0.672</td>\n",
              "      <td>32</td>\n",
              "      <td>1</td>\n",
              "    </tr>\n",
              "    <tr>\n",
              "      <th>3</th>\n",
              "      <td>89</td>\n",
              "      <td>66</td>\n",
              "      <td>94</td>\n",
              "      <td>28.1</td>\n",
              "      <td>0.167</td>\n",
              "      <td>21</td>\n",
              "      <td>0</td>\n",
              "    </tr>\n",
              "    <tr>\n",
              "      <th>4</th>\n",
              "      <td>137</td>\n",
              "      <td>40</td>\n",
              "      <td>168</td>\n",
              "      <td>43.1</td>\n",
              "      <td>2.288</td>\n",
              "      <td>33</td>\n",
              "      <td>1</td>\n",
              "    </tr>\n",
              "    <tr>\n",
              "      <th>...</th>\n",
              "      <td>...</td>\n",
              "      <td>...</td>\n",
              "      <td>...</td>\n",
              "      <td>...</td>\n",
              "      <td>...</td>\n",
              "      <td>...</td>\n",
              "      <td>...</td>\n",
              "    </tr>\n",
              "    <tr>\n",
              "      <th>763</th>\n",
              "      <td>101</td>\n",
              "      <td>76</td>\n",
              "      <td>180</td>\n",
              "      <td>32.9</td>\n",
              "      <td>0.171</td>\n",
              "      <td>63</td>\n",
              "      <td>0</td>\n",
              "    </tr>\n",
              "    <tr>\n",
              "      <th>764</th>\n",
              "      <td>122</td>\n",
              "      <td>70</td>\n",
              "      <td>0</td>\n",
              "      <td>36.8</td>\n",
              "      <td>0.340</td>\n",
              "      <td>27</td>\n",
              "      <td>0</td>\n",
              "    </tr>\n",
              "    <tr>\n",
              "      <th>765</th>\n",
              "      <td>121</td>\n",
              "      <td>72</td>\n",
              "      <td>112</td>\n",
              "      <td>26.2</td>\n",
              "      <td>0.245</td>\n",
              "      <td>30</td>\n",
              "      <td>0</td>\n",
              "    </tr>\n",
              "    <tr>\n",
              "      <th>766</th>\n",
              "      <td>126</td>\n",
              "      <td>60</td>\n",
              "      <td>0</td>\n",
              "      <td>30.1</td>\n",
              "      <td>0.349</td>\n",
              "      <td>47</td>\n",
              "      <td>1</td>\n",
              "    </tr>\n",
              "    <tr>\n",
              "      <th>767</th>\n",
              "      <td>93</td>\n",
              "      <td>70</td>\n",
              "      <td>0</td>\n",
              "      <td>30.4</td>\n",
              "      <td>0.315</td>\n",
              "      <td>23</td>\n",
              "      <td>0</td>\n",
              "    </tr>\n",
              "  </tbody>\n",
              "</table>\n",
              "<p>768 rows × 7 columns</p>\n",
              "</div>\n",
              "      <button class=\"colab-df-convert\" onclick=\"convertToInteractive('df-fbceb5a1-6607-4da8-915a-c4f845c840ea')\"\n",
              "              title=\"Convert this dataframe to an interactive table.\"\n",
              "              style=\"display:none;\">\n",
              "        \n",
              "  <svg xmlns=\"http://www.w3.org/2000/svg\" height=\"24px\"viewBox=\"0 0 24 24\"\n",
              "       width=\"24px\">\n",
              "    <path d=\"M0 0h24v24H0V0z\" fill=\"none\"/>\n",
              "    <path d=\"M18.56 5.44l.94 2.06.94-2.06 2.06-.94-2.06-.94-.94-2.06-.94 2.06-2.06.94zm-11 1L8.5 8.5l.94-2.06 2.06-.94-2.06-.94L8.5 2.5l-.94 2.06-2.06.94zm10 10l.94 2.06.94-2.06 2.06-.94-2.06-.94-.94-2.06-.94 2.06-2.06.94z\"/><path d=\"M17.41 7.96l-1.37-1.37c-.4-.4-.92-.59-1.43-.59-.52 0-1.04.2-1.43.59L10.3 9.45l-7.72 7.72c-.78.78-.78 2.05 0 2.83L4 21.41c.39.39.9.59 1.41.59.51 0 1.02-.2 1.41-.59l7.78-7.78 2.81-2.81c.8-.78.8-2.07 0-2.86zM5.41 20L4 18.59l7.72-7.72 1.47 1.35L5.41 20z\"/>\n",
              "  </svg>\n",
              "      </button>\n",
              "      \n",
              "  <style>\n",
              "    .colab-df-container {\n",
              "      display:flex;\n",
              "      flex-wrap:wrap;\n",
              "      gap: 12px;\n",
              "    }\n",
              "\n",
              "    .colab-df-convert {\n",
              "      background-color: #E8F0FE;\n",
              "      border: none;\n",
              "      border-radius: 50%;\n",
              "      cursor: pointer;\n",
              "      display: none;\n",
              "      fill: #1967D2;\n",
              "      height: 32px;\n",
              "      padding: 0 0 0 0;\n",
              "      width: 32px;\n",
              "    }\n",
              "\n",
              "    .colab-df-convert:hover {\n",
              "      background-color: #E2EBFA;\n",
              "      box-shadow: 0px 1px 2px rgba(60, 64, 67, 0.3), 0px 1px 3px 1px rgba(60, 64, 67, 0.15);\n",
              "      fill: #174EA6;\n",
              "    }\n",
              "\n",
              "    [theme=dark] .colab-df-convert {\n",
              "      background-color: #3B4455;\n",
              "      fill: #D2E3FC;\n",
              "    }\n",
              "\n",
              "    [theme=dark] .colab-df-convert:hover {\n",
              "      background-color: #434B5C;\n",
              "      box-shadow: 0px 1px 3px 1px rgba(0, 0, 0, 0.15);\n",
              "      filter: drop-shadow(0px 1px 2px rgba(0, 0, 0, 0.3));\n",
              "      fill: #FFFFFF;\n",
              "    }\n",
              "  </style>\n",
              "\n",
              "      <script>\n",
              "        const buttonEl =\n",
              "          document.querySelector('#df-fbceb5a1-6607-4da8-915a-c4f845c840ea button.colab-df-convert');\n",
              "        buttonEl.style.display =\n",
              "          google.colab.kernel.accessAllowed ? 'block' : 'none';\n",
              "\n",
              "        async function convertToInteractive(key) {\n",
              "          const element = document.querySelector('#df-fbceb5a1-6607-4da8-915a-c4f845c840ea');\n",
              "          const dataTable =\n",
              "            await google.colab.kernel.invokeFunction('convertToInteractive',\n",
              "                                                     [key], {});\n",
              "          if (!dataTable) return;\n",
              "\n",
              "          const docLinkHtml = 'Like what you see? Visit the ' +\n",
              "            '<a target=\"_blank\" href=https://colab.research.google.com/notebooks/data_table.ipynb>data table notebook</a>'\n",
              "            + ' to learn more about interactive tables.';\n",
              "          element.innerHTML = '';\n",
              "          dataTable['output_type'] = 'display_data';\n",
              "          await google.colab.output.renderOutput(dataTable, element);\n",
              "          const docLink = document.createElement('div');\n",
              "          docLink.innerHTML = docLinkHtml;\n",
              "          element.appendChild(docLink);\n",
              "        }\n",
              "      </script>\n",
              "    </div>\n",
              "  </div>\n",
              "  "
            ]
          },
          "metadata": {},
          "execution_count": 335
        }
      ]
    },
    {
      "cell_type": "markdown",
      "source": [
        "todos los valores que estan en 0 los cambiamos por la media sobre los valores que si tienen un valor mayor que 0, esto lo hacemos para todas las columnas menos para la columna DiabetesPedigreeFunction y Age"
      ],
      "metadata": {
        "id": "PrSvmKVTIzhx"
      }
    },
    {
      "cell_type": "code",
      "source": [
        "mediaGlucose = datos[datos['Glucose'] != 0]['Glucose'].mean()\n",
        "integerMediaGlucose = int(mediaGlucose)\n",
        "datos.loc[(datos['Glucose'] == 0), 'Glucose'] = integerMediaGlucose"
      ],
      "metadata": {
        "id": "SSrwrZ125G1M"
      },
      "execution_count": 336,
      "outputs": []
    },
    {
      "cell_type": "code",
      "source": [
        "mediaBloodPressure = datos[datos['BloodPressure'] != 0]['BloodPressure'].mean()\n",
        "integerBloodPressure = int(mediaBloodPressure)\n",
        "datos.loc[(datos['BloodPressure'] == 0), 'BloodPressure'] = integerBloodPressure"
      ],
      "metadata": {
        "id": "sgiYxojk7PnL"
      },
      "execution_count": 337,
      "outputs": []
    },
    {
      "cell_type": "code",
      "source": [
        "mediaInsulin = datos[datos['Insulin'] != 0]['Insulin'].mean()\n",
        "integerInsulin = int(mediaInsulin)\n",
        "datos.loc[(datos['Insulin'] == 0), 'Insulin'] = integerInsulin"
      ],
      "metadata": {
        "id": "Nl32O0b17QDK"
      },
      "execution_count": 338,
      "outputs": []
    },
    {
      "cell_type": "code",
      "source": [
        "mediaBMI = datos[datos['BMI'] != 0]['BMI'].mean()\n",
        "mediaBMI = round(mediaBMI, 1)\n",
        "datos.loc[(datos['BMI'] == 0), 'BMI'] = mediaBMI"
      ],
      "metadata": {
        "id": "taYDgrsSHRcj"
      },
      "execution_count": 339,
      "outputs": []
    },
    {
      "cell_type": "markdown",
      "source": [
        "verificamos si existen valores atipicos (outliers).\n",
        "con la calculadora para outliers (https://www.graphpad.com/quickcalcs/Grubbs1.cfm)"
      ],
      "metadata": {
        "id": "xPBMPIq_MfQA"
      }
    },
    {
      "cell_type": "markdown",
      "source": [
        "se puede ver que en la columna BloodPressure existen los sigueintes datos atipicos: 122, 24"
      ],
      "metadata": {
        "id": "ftVluiGE1Qsf"
      }
    },
    {
      "cell_type": "code",
      "source": [
        "datos = datos[datos['BloodPressure'] != 122]\n",
        "datos = datos[datos['BloodPressure'] != 24]\n",
        "datos.shape[0]"
      ],
      "metadata": {
        "colab": {
          "base_uri": "https://localhost:8080/"
        },
        "id": "AHsz_5-E2KpX",
        "outputId": "9da65a2a-a30e-44f6-df74-ed30f1f7e851"
      },
      "execution_count": 340,
      "outputs": [
        {
          "output_type": "execute_result",
          "data": {
            "text/plain": [
              "766"
            ]
          },
          "metadata": {},
          "execution_count": 340
        }
      ]
    },
    {
      "cell_type": "markdown",
      "source": [
        "en la columna Insulin existe los sigientes datos atipicos con valor de 846, 744, 680, 600, 579, 545, 543, 540, 510, 495, 495, 485, 480, 480, 478, 474, 465, 440, 415, 402, 392, 387, 375, 370, 360 eliminamos estos datos."
      ],
      "metadata": {
        "id": "m10PO7IlmOrJ"
      }
    },
    {
      "cell_type": "code",
      "source": [
        "datos = datos[datos['Insulin'] < 360]\n",
        "datos.shape[0]"
      ],
      "metadata": {
        "colab": {
          "base_uri": "https://localhost:8080/"
        },
        "id": "5TDqc0zNMRlJ",
        "outputId": "e2aac32c-5bb3-4b88-a894-30ac33c7591a"
      },
      "execution_count": 341,
      "outputs": [
        {
          "output_type": "execute_result",
          "data": {
            "text/plain": [
              "741"
            ]
          },
          "metadata": {},
          "execution_count": 341
        }
      ]
    },
    {
      "cell_type": "markdown",
      "source": [
        "para el indice de masa corporal BMI existen los siguientes datos atipicos: 67.1, 59.4"
      ],
      "metadata": {
        "id": "Es2qaFJl3wAT"
      }
    },
    {
      "cell_type": "code",
      "source": [
        "datos = datos[datos['BMI'] < 59.4]\n",
        "datos.shape[0]"
      ],
      "metadata": {
        "colab": {
          "base_uri": "https://localhost:8080/"
        },
        "outputId": "fa629362-313f-4370-af57-ef919cc08dce",
        "id": "rH8BlECY3wAU"
      },
      "execution_count": 342,
      "outputs": [
        {
          "output_type": "execute_result",
          "data": {
            "text/plain": [
              "739"
            ]
          },
          "metadata": {},
          "execution_count": 342
        }
      ]
    },
    {
      "cell_type": "markdown",
      "source": [
        "para nuestra columna de DiabetesPedigreeFunction existen los siguientes datos atipicos: 2.420, 2.329, 2.288, 2.137, 1.893, 1.781, 1.731, 1.699, 1.698, 1.600. Eliminamos estos datos de nuestro dataset"
      ],
      "metadata": {
        "id": "e14NILfw5Ykn"
      }
    },
    {
      "cell_type": "code",
      "source": [
        "datos = datos[datos['DiabetesPedigreeFunction'] < 1.6]\n",
        "datos.shape[0]"
      ],
      "metadata": {
        "colab": {
          "base_uri": "https://localhost:8080/"
        },
        "id": "tjDoRQQ45Y6Z",
        "outputId": "58d8bdc9-9a96-4ca6-9f68-b31be2c3d5e9"
      },
      "execution_count": 343,
      "outputs": [
        {
          "output_type": "execute_result",
          "data": {
            "text/plain": [
              "732"
            ]
          },
          "metadata": {},
          "execution_count": 343
        }
      ]
    },
    {
      "cell_type": "markdown",
      "source": [
        "Para nuestra columna de edad (Age) tenemos los siguientes datos atipicos: 81"
      ],
      "metadata": {
        "id": "BZREp-xc756M"
      }
    },
    {
      "cell_type": "code",
      "source": [
        "datos = datos[datos['Age'] != 81]\n",
        "datos.shape[0]"
      ],
      "metadata": {
        "colab": {
          "base_uri": "https://localhost:8080/"
        },
        "id": "Op25B0to780u",
        "outputId": "77dcf750-d579-48c3-d331-ad1a6113ca90"
      },
      "execution_count": 344,
      "outputs": [
        {
          "output_type": "execute_result",
          "data": {
            "text/plain": [
              "731"
            ]
          },
          "metadata": {},
          "execution_count": 344
        }
      ]
    },
    {
      "cell_type": "markdown",
      "source": [
        "### Atributos y variable de clasificacion"
      ],
      "metadata": {
        "id": "ABn3BUJIL30h"
      }
    },
    {
      "cell_type": "code",
      "source": [
        "X = np.array(datos.drop([\"Outcome\"], axis=1))\n",
        "y = np.array(datos[\"Outcome\"])"
      ],
      "metadata": {
        "id": "sZL1oW6n6_O_"
      },
      "execution_count": 345,
      "outputs": []
    },
    {
      "cell_type": "markdown",
      "source": [
        "### Datos de entrenamiento y de prueba"
      ],
      "metadata": {
        "id": "DyRLYB2cMyZu"
      }
    },
    {
      "cell_type": "code",
      "source": [
        "X_entrenamiento, X_prueba, y_entrenamiento, y_prueba = train_test_split(X, y, random_state=0, test_size=0.20)"
      ],
      "metadata": {
        "id": "HZtd9nMl9pgn"
      },
      "execution_count": 346,
      "outputs": []
    },
    {
      "cell_type": "markdown",
      "metadata": {
        "id": "3pJRQQifDYBy"
      },
      "source": [
        "## Creando el modelo"
      ]
    },
    {
      "cell_type": "code",
      "execution_count": 347,
      "metadata": {
        "id": "XmSdOAfKDaQe"
      },
      "outputs": [],
      "source": [
        "tree = DecisionTreeClassifier(criterion='entropy', min_samples_leaf=12, max_depth=15, min_samples_split=20)"
      ]
    },
    {
      "cell_type": "code",
      "execution_count": 348,
      "metadata": {
        "colab": {
          "base_uri": "https://localhost:8080/"
        },
        "id": "EoZ311RoDfOu",
        "outputId": "88a0d3d0-2670-4ed4-a2dd-6053ce1cdc37"
      },
      "outputs": [
        {
          "output_type": "execute_result",
          "data": {
            "text/plain": [
              "DecisionTreeClassifier(criterion='entropy', max_depth=15, min_samples_leaf=12,\n",
              "                       min_samples_split=20)"
            ]
          },
          "metadata": {},
          "execution_count": 348
        }
      ],
      "source": [
        "tree.fit(X_entrenamiento, y_entrenamiento)"
      ]
    },
    {
      "cell_type": "code",
      "execution_count": 349,
      "metadata": {
        "colab": {
          "base_uri": "https://localhost:8080/"
        },
        "id": "ovi5dSkDDg31",
        "outputId": "18a09239-2093-4fba-df3b-e3423fcad85e"
      },
      "outputs": [
        {
          "output_type": "execute_result",
          "data": {
            "text/plain": [
              "8"
            ]
          },
          "metadata": {},
          "execution_count": 349
        }
      ],
      "source": [
        "tree.tree_.max_depth"
      ]
    },
    {
      "cell_type": "code",
      "execution_count": 350,
      "metadata": {
        "id": "hoOUCb75Di4f"
      },
      "outputs": [],
      "source": [
        "predicciones_prueba = tree.predict(X_prueba)\n",
        "predicciones_entrenamiento = tree.predict(X_entrenamiento)"
      ]
    },
    {
      "cell_type": "markdown",
      "metadata": {
        "id": "4V2KjHFbEF3f"
      },
      "source": [
        "### Mostrando el arbol de forma visual"
      ]
    },
    {
      "cell_type": "code",
      "execution_count": 351,
      "metadata": {
        "colab": {
          "base_uri": "https://localhost:8080/"
        },
        "id": "mN_EHt_6Eawq",
        "outputId": "dc536ec9-93fb-4f48-acc2-1efe61f331bf"
      },
      "outputs": [
        {
          "output_type": "stream",
          "name": "stdout",
          "text": [
            "Reading package lists... Done\n",
            "Building dependency tree       \n",
            "Reading state information... Done\n",
            "graphviz is already the newest version (2.40.1-2).\n",
            "The following package was automatically installed and is no longer required:\n",
            "  libnvidia-common-460\n",
            "Use 'apt autoremove' to remove it.\n",
            "0 upgraded, 0 newly installed, 0 to remove and 20 not upgraded.\n"
          ]
        }
      ],
      "source": [
        "# Se require instalar la libreria grpahviz\n",
        "# si esta utilizando colab use la siguiente instrucción\n",
        "!apt-get install graphviz"
      ]
    },
    {
      "cell_type": "code",
      "execution_count": 352,
      "metadata": {
        "colab": {
          "base_uri": "https://localhost:8080/"
        },
        "id": "TboG7v8IELj7",
        "outputId": "e391cc0d-e2e5-4d2d-ba6b-6cf871c5df0e"
      },
      "outputs": [
        {
          "output_type": "stream",
          "name": "stdout",
          "text": [
            "Looking in indexes: https://pypi.org/simple, https://us-python.pkg.dev/colab-wheels/public/simple/\n",
            "Requirement already satisfied: graphviz in /usr/local/lib/python3.8/dist-packages (0.10.1)\n"
          ]
        }
      ],
      "source": [
        "# si esta utilizando colab use la siguiente instrucción\n",
        "!pip install graphviz"
      ]
    },
    {
      "cell_type": "code",
      "execution_count": 353,
      "metadata": {
        "id": "yELy96AHENvr"
      },
      "outputs": [],
      "source": [
        "import graphviz \n",
        "from sklearn.tree import export_graphviz"
      ]
    },
    {
      "cell_type": "code",
      "execution_count": 354,
      "metadata": {
        "id": "AvbMS7gkEPbn"
      },
      "outputs": [],
      "source": [
        "feature_names = datos.drop([\"Outcome\"], axis=1).columns"
      ]
    },
    {
      "cell_type": "code",
      "execution_count": 355,
      "metadata": {
        "id": "CY6Dq_akESiT"
      },
      "outputs": [],
      "source": [
        "dot_data = export_graphviz(tree, out_file=None, \n",
        "                         feature_names=feature_names,  \n",
        "                         class_names=True,  \n",
        "                         filled=True, rounded=True,  \n",
        "                         special_characters=True)  \n",
        "graph = graphviz.Source(dot_data)"
      ]
    },
    {
      "cell_type": "code",
      "execution_count": 356,
      "metadata": {
        "colab": {
          "base_uri": "https://localhost:8080/",
          "height": 1000
        },
        "id": "qz0HXbLQTEY4",
        "outputId": "4d7d62b6-cfbe-4dee-df27-894c930d9ddf"
      },
      "outputs": [
        {
          "output_type": "execute_result",
          "data": {
            "text/plain": [
              "<graphviz.files.Source at 0x7f9cb760e550>"
            ],
            "image/svg+xml": "<?xml version=\"1.0\" encoding=\"UTF-8\" standalone=\"no\"?>\n<!DOCTYPE svg PUBLIC \"-//W3C//DTD SVG 1.1//EN\"\n \"http://www.w3.org/Graphics/SVG/1.1/DTD/svg11.dtd\">\n<!-- Generated by graphviz version 2.40.1 (20161225.0304)\n -->\n<!-- Title: Tree Pages: 1 -->\n<svg width=\"2162pt\" height=\"984pt\"\n viewBox=\"0.00 0.00 2161.50 984.00\" xmlns=\"http://www.w3.org/2000/svg\" xmlns:xlink=\"http://www.w3.org/1999/xlink\">\n<g id=\"graph0\" class=\"graph\" transform=\"scale(1 1) rotate(0) translate(4 980)\">\n<title>Tree</title>\n<polygon fill=\"#ffffff\" stroke=\"transparent\" points=\"-4,4 -4,-980 2157.5,-980 2157.5,4 -4,4\"/>\n<!-- 0 -->\n<g id=\"node1\" class=\"node\">\n<title>0</title>\n<path fill=\"#f3c4a2\" stroke=\"#000000\" d=\"M724,-976C724,-976 616,-976 616,-976 610,-976 604,-970 604,-964 604,-964 604,-910 604,-910 604,-904 610,-898 616,-898 616,-898 724,-898 724,-898 730,-898 736,-904 736,-910 736,-910 736,-964 736,-964 736,-970 730,-976 724,-976\"/>\n<text text-anchor=\"start\" x=\"617\" y=\"-961.8\" font-family=\"Helvetica,sans-Serif\" font-size=\"14.00\" fill=\"#000000\">Glucose ≤ 123.5</text>\n<text text-anchor=\"start\" x=\"623\" y=\"-947.8\" font-family=\"Helvetica,sans-Serif\" font-size=\"14.00\" fill=\"#000000\">entropy = 0.93</text>\n<text text-anchor=\"start\" x=\"622\" y=\"-933.8\" font-family=\"Helvetica,sans-Serif\" font-size=\"14.00\" fill=\"#000000\">samples = 584</text>\n<text text-anchor=\"start\" x=\"612\" y=\"-919.8\" font-family=\"Helvetica,sans-Serif\" font-size=\"14.00\" fill=\"#000000\">value = [382, 202]</text>\n<text text-anchor=\"start\" x=\"637.5\" y=\"-905.8\" font-family=\"Helvetica,sans-Serif\" font-size=\"14.00\" fill=\"#000000\">class = y</text>\n<text text-anchor=\"start\" x=\"695.5\" y=\"-905.8\" font-family=\"Helvetica,sans-Serif\" baseline-shift=\"sub\" font-size=\"14.00\" fill=\"#000000\">0</text>\n</g>\n<!-- 1 -->\n<g id=\"node2\" class=\"node\">\n<title>1</title>\n<path fill=\"#ea9b62\" stroke=\"#000000\" d=\"M588,-862C588,-862 488,-862 488,-862 482,-862 476,-856 476,-850 476,-850 476,-796 476,-796 476,-790 482,-784 488,-784 488,-784 588,-784 588,-784 594,-784 600,-790 600,-796 600,-796 600,-850 600,-850 600,-856 594,-862 588,-862\"/>\n<text text-anchor=\"start\" x=\"499\" y=\"-847.8\" font-family=\"Helvetica,sans-Serif\" font-size=\"14.00\" fill=\"#000000\">BMI ≤ 26.45</text>\n<text text-anchor=\"start\" x=\"487\" y=\"-833.8\" font-family=\"Helvetica,sans-Serif\" font-size=\"14.00\" fill=\"#000000\">entropy = 0.664</text>\n<text text-anchor=\"start\" x=\"490\" y=\"-819.8\" font-family=\"Helvetica,sans-Serif\" font-size=\"14.00\" fill=\"#000000\">samples = 353</text>\n<text text-anchor=\"start\" x=\"484\" y=\"-805.8\" font-family=\"Helvetica,sans-Serif\" font-size=\"14.00\" fill=\"#000000\">value = [292, 61]</text>\n<text text-anchor=\"start\" x=\"505.5\" y=\"-791.8\" font-family=\"Helvetica,sans-Serif\" font-size=\"14.00\" fill=\"#000000\">class = y</text>\n<text text-anchor=\"start\" x=\"563.5\" y=\"-791.8\" font-family=\"Helvetica,sans-Serif\" baseline-shift=\"sub\" font-size=\"14.00\" fill=\"#000000\">0</text>\n</g>\n<!-- 0&#45;&gt;1 -->\n<g id=\"edge1\" class=\"edge\">\n<title>0&#45;&gt;1</title>\n<path fill=\"none\" stroke=\"#000000\" d=\"M624.5731,-897.7677C613.7875,-888.4529 602.1876,-878.4347 591.0938,-868.8538\"/>\n<polygon fill=\"#000000\" stroke=\"#000000\" points=\"593.3666,-866.192 583.5106,-862.3046 588.7912,-871.4898 593.3666,-866.192\"/>\n<text text-anchor=\"middle\" x=\"585.335\" y=\"-883.538\" font-family=\"Helvetica,sans-Serif\" font-size=\"14.00\" fill=\"#000000\">True</text>\n</g>\n<!-- 32 -->\n<g id=\"node33\" class=\"node\">\n<title>32</title>\n<path fill=\"#b7dcf6\" stroke=\"#000000\" d=\"M1077,-862C1077,-862 977,-862 977,-862 971,-862 965,-856 965,-850 965,-850 965,-796 965,-796 965,-790 971,-784 977,-784 977,-784 1077,-784 1077,-784 1083,-784 1089,-790 1089,-796 1089,-796 1089,-850 1089,-850 1089,-856 1083,-862 1077,-862\"/>\n<text text-anchor=\"start\" x=\"992\" y=\"-847.8\" font-family=\"Helvetica,sans-Serif\" font-size=\"14.00\" fill=\"#000000\">BMI ≤ 30.2</text>\n<text text-anchor=\"start\" x=\"976\" y=\"-833.8\" font-family=\"Helvetica,sans-Serif\" font-size=\"14.00\" fill=\"#000000\">entropy = 0.965</text>\n<text text-anchor=\"start\" x=\"979\" y=\"-819.8\" font-family=\"Helvetica,sans-Serif\" font-size=\"14.00\" fill=\"#000000\">samples = 231</text>\n<text text-anchor=\"start\" x=\"973\" y=\"-805.8\" font-family=\"Helvetica,sans-Serif\" font-size=\"14.00\" fill=\"#000000\">value = [90, 141]</text>\n<text text-anchor=\"start\" x=\"994.5\" y=\"-791.8\" font-family=\"Helvetica,sans-Serif\" font-size=\"14.00\" fill=\"#000000\">class = y</text>\n<text text-anchor=\"start\" x=\"1052.5\" y=\"-791.8\" font-family=\"Helvetica,sans-Serif\" baseline-shift=\"sub\" font-size=\"14.00\" fill=\"#000000\">1</text>\n</g>\n<!-- 0&#45;&gt;32 -->\n<g id=\"edge32\" class=\"edge\">\n<title>0&#45;&gt;32</title>\n<path fill=\"none\" stroke=\"#000000\" d=\"M736.3123,-915.8246C798.5508,-895.9502 891.3907,-866.3038 955.3177,-845.8901\"/>\n<polygon fill=\"#000000\" stroke=\"#000000\" points=\"956.4647,-849.1981 964.9261,-842.8219 954.3353,-842.5298 956.4647,-849.1981\"/>\n<text text-anchor=\"middle\" x=\"953.4636\" y=\"-861.3393\" font-family=\"Helvetica,sans-Serif\" font-size=\"14.00\" fill=\"#000000\">False</text>\n</g>\n<!-- 2 -->\n<g id=\"node3\" class=\"node\">\n<title>2</title>\n<path fill=\"#e58139\" stroke=\"#000000\" d=\"M445.5,-741C445.5,-741 362.5,-741 362.5,-741 356.5,-741 350.5,-735 350.5,-729 350.5,-729 350.5,-689 350.5,-689 350.5,-683 356.5,-677 362.5,-677 362.5,-677 445.5,-677 445.5,-677 451.5,-677 457.5,-683 457.5,-689 457.5,-689 457.5,-729 457.5,-729 457.5,-735 451.5,-741 445.5,-741\"/>\n<text text-anchor=\"start\" x=\"361.5\" y=\"-726.8\" font-family=\"Helvetica,sans-Serif\" font-size=\"14.00\" fill=\"#000000\">entropy = 0.0</text>\n<text text-anchor=\"start\" x=\"360\" y=\"-712.8\" font-family=\"Helvetica,sans-Serif\" font-size=\"14.00\" fill=\"#000000\">samples = 88</text>\n<text text-anchor=\"start\" x=\"358.5\" y=\"-698.8\" font-family=\"Helvetica,sans-Serif\" font-size=\"14.00\" fill=\"#000000\">value = [88, 0]</text>\n<text text-anchor=\"start\" x=\"371.5\" y=\"-684.8\" font-family=\"Helvetica,sans-Serif\" font-size=\"14.00\" fill=\"#000000\">class = y</text>\n<text text-anchor=\"start\" x=\"429.5\" y=\"-684.8\" font-family=\"Helvetica,sans-Serif\" baseline-shift=\"sub\" font-size=\"14.00\" fill=\"#000000\">0</text>\n</g>\n<!-- 1&#45;&gt;2 -->\n<g id=\"edge2\" class=\"edge\">\n<title>1&#45;&gt;2</title>\n<path fill=\"none\" stroke=\"#000000\" d=\"M491.8848,-783.7677C478.2152,-772.1383 463.2568,-759.4125 449.6188,-747.81\"/>\n<polygon fill=\"#000000\" stroke=\"#000000\" points=\"451.6457,-744.9392 441.7612,-741.1252 447.1099,-750.2708 451.6457,-744.9392\"/>\n</g>\n<!-- 3 -->\n<g id=\"node4\" class=\"node\">\n<title>3</title>\n<path fill=\"#eda774\" stroke=\"#000000\" d=\"M588,-748C588,-748 488,-748 488,-748 482,-748 476,-742 476,-736 476,-736 476,-682 476,-682 476,-676 482,-670 488,-670 488,-670 588,-670 588,-670 594,-670 600,-676 600,-682 600,-682 600,-736 600,-736 600,-742 594,-748 588,-748\"/>\n<text text-anchor=\"start\" x=\"489\" y=\"-733.8\" font-family=\"Helvetica,sans-Serif\" font-size=\"14.00\" fill=\"#000000\">Glucose ≤ 99.5</text>\n<text text-anchor=\"start\" x=\"487\" y=\"-719.8\" font-family=\"Helvetica,sans-Serif\" font-size=\"14.00\" fill=\"#000000\">entropy = 0.778</text>\n<text text-anchor=\"start\" x=\"490\" y=\"-705.8\" font-family=\"Helvetica,sans-Serif\" font-size=\"14.00\" fill=\"#000000\">samples = 265</text>\n<text text-anchor=\"start\" x=\"484\" y=\"-691.8\" font-family=\"Helvetica,sans-Serif\" font-size=\"14.00\" fill=\"#000000\">value = [204, 61]</text>\n<text text-anchor=\"start\" x=\"505.5\" y=\"-677.8\" font-family=\"Helvetica,sans-Serif\" font-size=\"14.00\" fill=\"#000000\">class = y</text>\n<text text-anchor=\"start\" x=\"563.5\" y=\"-677.8\" font-family=\"Helvetica,sans-Serif\" baseline-shift=\"sub\" font-size=\"14.00\" fill=\"#000000\">0</text>\n</g>\n<!-- 1&#45;&gt;3 -->\n<g id=\"edge3\" class=\"edge\">\n<title>1&#45;&gt;3</title>\n<path fill=\"none\" stroke=\"#000000\" d=\"M538,-783.7677C538,-775.6172 538,-766.9283 538,-758.4649\"/>\n<polygon fill=\"#000000\" stroke=\"#000000\" points=\"541.5001,-758.3046 538,-748.3046 534.5001,-758.3047 541.5001,-758.3046\"/>\n</g>\n<!-- 4 -->\n<g id=\"node5\" class=\"node\">\n<title>4</title>\n<path fill=\"#e78b49\" stroke=\"#000000\" d=\"M242,-634C242,-634 148,-634 148,-634 142,-634 136,-628 136,-622 136,-622 136,-568 136,-568 136,-562 142,-556 148,-556 148,-556 242,-556 242,-556 248,-556 254,-562 254,-568 254,-568 254,-622 254,-622 254,-628 248,-634 242,-634\"/>\n<text text-anchor=\"start\" x=\"152\" y=\"-619.8\" font-family=\"Helvetica,sans-Serif\" font-size=\"14.00\" fill=\"#000000\">Insulin ≤ 87.5</text>\n<text text-anchor=\"start\" x=\"144\" y=\"-605.8\" font-family=\"Helvetica,sans-Serif\" font-size=\"14.00\" fill=\"#000000\">entropy = 0.381</text>\n<text text-anchor=\"start\" x=\"147\" y=\"-591.8\" font-family=\"Helvetica,sans-Serif\" font-size=\"14.00\" fill=\"#000000\">samples = 108</text>\n<text text-anchor=\"start\" x=\"145\" y=\"-577.8\" font-family=\"Helvetica,sans-Serif\" font-size=\"14.00\" fill=\"#000000\">value = [100, 8]</text>\n<text text-anchor=\"start\" x=\"162.5\" y=\"-563.8\" font-family=\"Helvetica,sans-Serif\" font-size=\"14.00\" fill=\"#000000\">class = y</text>\n<text text-anchor=\"start\" x=\"220.5\" y=\"-563.8\" font-family=\"Helvetica,sans-Serif\" baseline-shift=\"sub\" font-size=\"14.00\" fill=\"#000000\">0</text>\n</g>\n<!-- 3&#45;&gt;4 -->\n<g id=\"edge4\" class=\"edge\">\n<title>3&#45;&gt;4</title>\n<path fill=\"none\" stroke=\"#000000\" d=\"M475.9774,-674.2891C472.6353,-672.7701 469.2962,-671.3288 466,-670 399.2626,-643.0956 319.5345,-622.309 263.9004,-609.5146\"/>\n<polygon fill=\"#000000\" stroke=\"#000000\" points=\"264.6751,-606.1015 254.1479,-607.2969 263.1229,-612.9273 264.6751,-606.1015\"/>\n</g>\n<!-- 13 -->\n<g id=\"node14\" class=\"node\">\n<title>13</title>\n<path fill=\"#f2c19e\" stroke=\"#000000\" d=\"M588,-634C588,-634 488,-634 488,-634 482,-634 476,-628 476,-622 476,-622 476,-568 476,-568 476,-562 482,-556 488,-556 488,-556 588,-556 588,-556 594,-556 600,-562 600,-568 600,-568 600,-622 600,-622 600,-628 594,-634 588,-634\"/>\n<text text-anchor=\"start\" x=\"503\" y=\"-619.8\" font-family=\"Helvetica,sans-Serif\" font-size=\"14.00\" fill=\"#000000\">Age ≤ 28.5</text>\n<text text-anchor=\"start\" x=\"487\" y=\"-605.8\" font-family=\"Helvetica,sans-Serif\" font-size=\"14.00\" fill=\"#000000\">entropy = 0.922</text>\n<text text-anchor=\"start\" x=\"490\" y=\"-591.8\" font-family=\"Helvetica,sans-Serif\" font-size=\"14.00\" fill=\"#000000\">samples = 157</text>\n<text text-anchor=\"start\" x=\"484\" y=\"-577.8\" font-family=\"Helvetica,sans-Serif\" font-size=\"14.00\" fill=\"#000000\">value = [104, 53]</text>\n<text text-anchor=\"start\" x=\"505.5\" y=\"-563.8\" font-family=\"Helvetica,sans-Serif\" font-size=\"14.00\" fill=\"#000000\">class = y</text>\n<text text-anchor=\"start\" x=\"563.5\" y=\"-563.8\" font-family=\"Helvetica,sans-Serif\" baseline-shift=\"sub\" font-size=\"14.00\" fill=\"#000000\">0</text>\n</g>\n<!-- 3&#45;&gt;13 -->\n<g id=\"edge13\" class=\"edge\">\n<title>3&#45;&gt;13</title>\n<path fill=\"none\" stroke=\"#000000\" d=\"M538,-669.7677C538,-661.6172 538,-652.9283 538,-644.4649\"/>\n<polygon fill=\"#000000\" stroke=\"#000000\" points=\"541.5001,-644.3046 538,-634.3046 534.5001,-644.3047 541.5001,-644.3046\"/>\n</g>\n<!-- 5 -->\n<g id=\"node6\" class=\"node\">\n<title>5</title>\n<path fill=\"#e58139\" stroke=\"#000000\" d=\"M105.5,-513C105.5,-513 22.5,-513 22.5,-513 16.5,-513 10.5,-507 10.5,-501 10.5,-501 10.5,-461 10.5,-461 10.5,-455 16.5,-449 22.5,-449 22.5,-449 105.5,-449 105.5,-449 111.5,-449 117.5,-455 117.5,-461 117.5,-461 117.5,-501 117.5,-501 117.5,-507 111.5,-513 105.5,-513\"/>\n<text text-anchor=\"start\" x=\"21.5\" y=\"-498.8\" font-family=\"Helvetica,sans-Serif\" font-size=\"14.00\" fill=\"#000000\">entropy = 0.0</text>\n<text text-anchor=\"start\" x=\"20\" y=\"-484.8\" font-family=\"Helvetica,sans-Serif\" font-size=\"14.00\" fill=\"#000000\">samples = 42</text>\n<text text-anchor=\"start\" x=\"18.5\" y=\"-470.8\" font-family=\"Helvetica,sans-Serif\" font-size=\"14.00\" fill=\"#000000\">value = [42, 0]</text>\n<text text-anchor=\"start\" x=\"31.5\" y=\"-456.8\" font-family=\"Helvetica,sans-Serif\" font-size=\"14.00\" fill=\"#000000\">class = y</text>\n<text text-anchor=\"start\" x=\"89.5\" y=\"-456.8\" font-family=\"Helvetica,sans-Serif\" baseline-shift=\"sub\" font-size=\"14.00\" fill=\"#000000\">0</text>\n</g>\n<!-- 4&#45;&gt;5 -->\n<g id=\"edge5\" class=\"edge\">\n<title>4&#45;&gt;5</title>\n<path fill=\"none\" stroke=\"#000000\" d=\"M149.9172,-555.7677C136.5536,-544.1383 121.9301,-531.4125 108.5975,-519.81\"/>\n<polygon fill=\"#000000\" stroke=\"#000000\" points=\"110.757,-517.0496 100.9158,-513.1252 106.1618,-522.3301 110.757,-517.0496\"/>\n</g>\n<!-- 6 -->\n<g id=\"node7\" class=\"node\">\n<title>6</title>\n<path fill=\"#e99254\" stroke=\"#000000\" d=\"M242,-520C242,-520 148,-520 148,-520 142,-520 136,-514 136,-508 136,-508 136,-454 136,-454 136,-448 142,-442 148,-442 148,-442 242,-442 242,-442 248,-442 254,-448 254,-454 254,-454 254,-508 254,-508 254,-514 248,-520 242,-520\"/>\n<text text-anchor=\"start\" x=\"160\" y=\"-505.8\" font-family=\"Helvetica,sans-Serif\" font-size=\"14.00\" fill=\"#000000\">Age ≤ 22.5</text>\n<text text-anchor=\"start\" x=\"144\" y=\"-491.8\" font-family=\"Helvetica,sans-Serif\" font-size=\"14.00\" fill=\"#000000\">entropy = 0.533</text>\n<text text-anchor=\"start\" x=\"151\" y=\"-477.8\" font-family=\"Helvetica,sans-Serif\" font-size=\"14.00\" fill=\"#000000\">samples = 66</text>\n<text text-anchor=\"start\" x=\"149.5\" y=\"-463.8\" font-family=\"Helvetica,sans-Serif\" font-size=\"14.00\" fill=\"#000000\">value = [58, 8]</text>\n<text text-anchor=\"start\" x=\"162.5\" y=\"-449.8\" font-family=\"Helvetica,sans-Serif\" font-size=\"14.00\" fill=\"#000000\">class = y</text>\n<text text-anchor=\"start\" x=\"220.5\" y=\"-449.8\" font-family=\"Helvetica,sans-Serif\" baseline-shift=\"sub\" font-size=\"14.00\" fill=\"#000000\">0</text>\n</g>\n<!-- 4&#45;&gt;6 -->\n<g id=\"edge6\" class=\"edge\">\n<title>4&#45;&gt;6</title>\n<path fill=\"none\" stroke=\"#000000\" d=\"M195,-555.7677C195,-547.6172 195,-538.9283 195,-530.4649\"/>\n<polygon fill=\"#000000\" stroke=\"#000000\" points=\"198.5001,-530.3046 195,-520.3046 191.5001,-530.3047 198.5001,-530.3046\"/>\n</g>\n<!-- 7 -->\n<g id=\"node8\" class=\"node\">\n<title>7</title>\n<path fill=\"#e58139\" stroke=\"#000000\" d=\"M105.5,-399C105.5,-399 22.5,-399 22.5,-399 16.5,-399 10.5,-393 10.5,-387 10.5,-387 10.5,-347 10.5,-347 10.5,-341 16.5,-335 22.5,-335 22.5,-335 105.5,-335 105.5,-335 111.5,-335 117.5,-341 117.5,-347 117.5,-347 117.5,-387 117.5,-387 117.5,-393 111.5,-399 105.5,-399\"/>\n<text text-anchor=\"start\" x=\"21.5\" y=\"-384.8\" font-family=\"Helvetica,sans-Serif\" font-size=\"14.00\" fill=\"#000000\">entropy = 0.0</text>\n<text text-anchor=\"start\" x=\"20\" y=\"-370.8\" font-family=\"Helvetica,sans-Serif\" font-size=\"14.00\" fill=\"#000000\">samples = 14</text>\n<text text-anchor=\"start\" x=\"18.5\" y=\"-356.8\" font-family=\"Helvetica,sans-Serif\" font-size=\"14.00\" fill=\"#000000\">value = [14, 0]</text>\n<text text-anchor=\"start\" x=\"31.5\" y=\"-342.8\" font-family=\"Helvetica,sans-Serif\" font-size=\"14.00\" fill=\"#000000\">class = y</text>\n<text text-anchor=\"start\" x=\"89.5\" y=\"-342.8\" font-family=\"Helvetica,sans-Serif\" baseline-shift=\"sub\" font-size=\"14.00\" fill=\"#000000\">0</text>\n</g>\n<!-- 6&#45;&gt;7 -->\n<g id=\"edge7\" class=\"edge\">\n<title>6&#45;&gt;7</title>\n<path fill=\"none\" stroke=\"#000000\" d=\"M149.9172,-441.7677C136.5536,-430.1383 121.9301,-417.4125 108.5975,-405.81\"/>\n<polygon fill=\"#000000\" stroke=\"#000000\" points=\"110.757,-403.0496 100.9158,-399.1252 106.1618,-408.3301 110.757,-403.0496\"/>\n</g>\n<!-- 8 -->\n<g id=\"node9\" class=\"node\">\n<title>8</title>\n<path fill=\"#ea985d\" stroke=\"#000000\" d=\"M242,-406C242,-406 148,-406 148,-406 142,-406 136,-400 136,-394 136,-394 136,-340 136,-340 136,-334 142,-328 148,-328 148,-328 242,-328 242,-328 248,-328 254,-334 254,-340 254,-340 254,-394 254,-394 254,-400 248,-406 242,-406\"/>\n<text text-anchor=\"start\" x=\"146\" y=\"-391.8\" font-family=\"Helvetica,sans-Serif\" font-size=\"14.00\" fill=\"#000000\">Glucose ≤ 84.5</text>\n<text text-anchor=\"start\" x=\"144\" y=\"-377.8\" font-family=\"Helvetica,sans-Serif\" font-size=\"14.00\" fill=\"#000000\">entropy = 0.619</text>\n<text text-anchor=\"start\" x=\"151\" y=\"-363.8\" font-family=\"Helvetica,sans-Serif\" font-size=\"14.00\" fill=\"#000000\">samples = 52</text>\n<text text-anchor=\"start\" x=\"149.5\" y=\"-349.8\" font-family=\"Helvetica,sans-Serif\" font-size=\"14.00\" fill=\"#000000\">value = [44, 8]</text>\n<text text-anchor=\"start\" x=\"162.5\" y=\"-335.8\" font-family=\"Helvetica,sans-Serif\" font-size=\"14.00\" fill=\"#000000\">class = y</text>\n<text text-anchor=\"start\" x=\"220.5\" y=\"-335.8\" font-family=\"Helvetica,sans-Serif\" baseline-shift=\"sub\" font-size=\"14.00\" fill=\"#000000\">0</text>\n</g>\n<!-- 6&#45;&gt;8 -->\n<g id=\"edge8\" class=\"edge\">\n<title>6&#45;&gt;8</title>\n<path fill=\"none\" stroke=\"#000000\" d=\"M195,-441.7677C195,-433.6172 195,-424.9283 195,-416.4649\"/>\n<polygon fill=\"#000000\" stroke=\"#000000\" points=\"198.5001,-416.3046 195,-406.3046 191.5001,-416.3047 198.5001,-416.3046\"/>\n</g>\n<!-- 9 -->\n<g id=\"node10\" class=\"node\">\n<title>9</title>\n<path fill=\"#e68844\" stroke=\"#000000\" d=\"M106,-285C106,-285 12,-285 12,-285 6,-285 0,-279 0,-273 0,-273 0,-233 0,-233 0,-227 6,-221 12,-221 12,-221 106,-221 106,-221 112,-221 118,-227 118,-233 118,-233 118,-273 118,-273 118,-279 112,-285 106,-285\"/>\n<text text-anchor=\"start\" x=\"8\" y=\"-270.8\" font-family=\"Helvetica,sans-Serif\" font-size=\"14.00\" fill=\"#000000\">entropy = 0.297</text>\n<text text-anchor=\"start\" x=\"15\" y=\"-256.8\" font-family=\"Helvetica,sans-Serif\" font-size=\"14.00\" fill=\"#000000\">samples = 19</text>\n<text text-anchor=\"start\" x=\"13.5\" y=\"-242.8\" font-family=\"Helvetica,sans-Serif\" font-size=\"14.00\" fill=\"#000000\">value = [18, 1]</text>\n<text text-anchor=\"start\" x=\"26.5\" y=\"-228.8\" font-family=\"Helvetica,sans-Serif\" font-size=\"14.00\" fill=\"#000000\">class = y</text>\n<text text-anchor=\"start\" x=\"84.5\" y=\"-228.8\" font-family=\"Helvetica,sans-Serif\" baseline-shift=\"sub\" font-size=\"14.00\" fill=\"#000000\">0</text>\n</g>\n<!-- 8&#45;&gt;9 -->\n<g id=\"edge9\" class=\"edge\">\n<title>8&#45;&gt;9</title>\n<path fill=\"none\" stroke=\"#000000\" d=\"M148.1965,-327.7677C134.3228,-316.1383 119.1412,-303.4125 105.2996,-291.81\"/>\n<polygon fill=\"#000000\" stroke=\"#000000\" points=\"107.2369,-288.8669 97.3248,-285.1252 102.7401,-294.2315 107.2369,-288.8669\"/>\n</g>\n<!-- 10 -->\n<g id=\"node11\" class=\"node\">\n<title>10</title>\n<path fill=\"#eca36e\" stroke=\"#000000\" d=\"M242,-292C242,-292 148,-292 148,-292 142,-292 136,-286 136,-280 136,-280 136,-226 136,-226 136,-220 142,-214 148,-214 148,-214 242,-214 242,-214 248,-214 254,-220 254,-226 254,-226 254,-280 254,-280 254,-286 248,-292 242,-292\"/>\n<text text-anchor=\"start\" x=\"156\" y=\"-277.8\" font-family=\"Helvetica,sans-Serif\" font-size=\"14.00\" fill=\"#000000\">BMI ≤ 34.45</text>\n<text text-anchor=\"start\" x=\"144\" y=\"-263.8\" font-family=\"Helvetica,sans-Serif\" font-size=\"14.00\" fill=\"#000000\">entropy = 0.746</text>\n<text text-anchor=\"start\" x=\"151\" y=\"-249.8\" font-family=\"Helvetica,sans-Serif\" font-size=\"14.00\" fill=\"#000000\">samples = 33</text>\n<text text-anchor=\"start\" x=\"149.5\" y=\"-235.8\" font-family=\"Helvetica,sans-Serif\" font-size=\"14.00\" fill=\"#000000\">value = [26, 7]</text>\n<text text-anchor=\"start\" x=\"162.5\" y=\"-221.8\" font-family=\"Helvetica,sans-Serif\" font-size=\"14.00\" fill=\"#000000\">class = y</text>\n<text text-anchor=\"start\" x=\"220.5\" y=\"-221.8\" font-family=\"Helvetica,sans-Serif\" baseline-shift=\"sub\" font-size=\"14.00\" fill=\"#000000\">0</text>\n</g>\n<!-- 8&#45;&gt;10 -->\n<g id=\"edge10\" class=\"edge\">\n<title>8&#45;&gt;10</title>\n<path fill=\"none\" stroke=\"#000000\" d=\"M195,-327.7677C195,-319.6172 195,-310.9283 195,-302.4649\"/>\n<polygon fill=\"#000000\" stroke=\"#000000\" points=\"198.5001,-302.3046 195,-292.3046 191.5001,-302.3047 198.5001,-302.3046\"/>\n</g>\n<!-- 11 -->\n<g id=\"node12\" class=\"node\">\n<title>11</title>\n<path fill=\"#e89253\" stroke=\"#000000\" d=\"M139,-171C139,-171 45,-171 45,-171 39,-171 33,-165 33,-159 33,-159 33,-119 33,-119 33,-113 39,-107 45,-107 45,-107 139,-107 139,-107 145,-107 151,-113 151,-119 151,-119 151,-159 151,-159 151,-165 145,-171 139,-171\"/>\n<text text-anchor=\"start\" x=\"41\" y=\"-156.8\" font-family=\"Helvetica,sans-Serif\" font-size=\"14.00\" fill=\"#000000\">entropy = 0.523</text>\n<text text-anchor=\"start\" x=\"48\" y=\"-142.8\" font-family=\"Helvetica,sans-Serif\" font-size=\"14.00\" fill=\"#000000\">samples = 17</text>\n<text text-anchor=\"start\" x=\"46.5\" y=\"-128.8\" font-family=\"Helvetica,sans-Serif\" font-size=\"14.00\" fill=\"#000000\">value = [15, 2]</text>\n<text text-anchor=\"start\" x=\"59.5\" y=\"-114.8\" font-family=\"Helvetica,sans-Serif\" font-size=\"14.00\" fill=\"#000000\">class = y</text>\n<text text-anchor=\"start\" x=\"117.5\" y=\"-114.8\" font-family=\"Helvetica,sans-Serif\" baseline-shift=\"sub\" font-size=\"14.00\" fill=\"#000000\">0</text>\n</g>\n<!-- 10&#45;&gt;11 -->\n<g id=\"edge11\" class=\"edge\">\n<title>10&#45;&gt;11</title>\n<path fill=\"none\" stroke=\"#000000\" d=\"M159.5532,-213.7677C149.3406,-202.4643 138.1921,-190.1252 127.9493,-178.7885\"/>\n<polygon fill=\"#000000\" stroke=\"#000000\" points=\"130.3265,-176.1988 121.0254,-171.1252 125.1324,-180.8916 130.3265,-176.1988\"/>\n</g>\n<!-- 12 -->\n<g id=\"node13\" class=\"node\">\n<title>12</title>\n<path fill=\"#f1ba93\" stroke=\"#000000\" d=\"M275,-171C275,-171 181,-171 181,-171 175,-171 169,-165 169,-159 169,-159 169,-119 169,-119 169,-113 175,-107 181,-107 181,-107 275,-107 275,-107 281,-107 287,-113 287,-119 287,-119 287,-159 287,-159 287,-165 281,-171 275,-171\"/>\n<text text-anchor=\"start\" x=\"177\" y=\"-156.8\" font-family=\"Helvetica,sans-Serif\" font-size=\"14.00\" fill=\"#000000\">entropy = 0.896</text>\n<text text-anchor=\"start\" x=\"184\" y=\"-142.8\" font-family=\"Helvetica,sans-Serif\" font-size=\"14.00\" fill=\"#000000\">samples = 16</text>\n<text text-anchor=\"start\" x=\"182.5\" y=\"-128.8\" font-family=\"Helvetica,sans-Serif\" font-size=\"14.00\" fill=\"#000000\">value = [11, 5]</text>\n<text text-anchor=\"start\" x=\"195.5\" y=\"-114.8\" font-family=\"Helvetica,sans-Serif\" font-size=\"14.00\" fill=\"#000000\">class = y</text>\n<text text-anchor=\"start\" x=\"253.5\" y=\"-114.8\" font-family=\"Helvetica,sans-Serif\" baseline-shift=\"sub\" font-size=\"14.00\" fill=\"#000000\">0</text>\n</g>\n<!-- 10&#45;&gt;12 -->\n<g id=\"edge12\" class=\"edge\">\n<title>10&#45;&gt;12</title>\n<path fill=\"none\" stroke=\"#000000\" d=\"M206.3567,-213.7677C209.44,-203.1164 212.7895,-191.5455 215.9115,-180.7603\"/>\n<polygon fill=\"#000000\" stroke=\"#000000\" points=\"219.2819,-181.7041 218.7006,-171.1252 212.558,-179.7576 219.2819,-181.7041\"/>\n</g>\n<!-- 14 -->\n<g id=\"node15\" class=\"node\">\n<title>14</title>\n<path fill=\"#eb9d64\" stroke=\"#000000\" d=\"M486,-520C486,-520 392,-520 392,-520 386,-520 380,-514 380,-508 380,-508 380,-454 380,-454 380,-448 386,-442 392,-442 392,-442 486,-442 486,-442 492,-442 498,-448 498,-454 498,-454 498,-508 498,-508 498,-514 492,-520 486,-520\"/>\n<text text-anchor=\"start\" x=\"392\" y=\"-505.8\" font-family=\"Helvetica,sans-Serif\" font-size=\"14.00\" fill=\"#000000\">Insulin ≤ 160.0</text>\n<text text-anchor=\"start\" x=\"388\" y=\"-491.8\" font-family=\"Helvetica,sans-Serif\" font-size=\"14.00\" fill=\"#000000\">entropy = 0.679</text>\n<text text-anchor=\"start\" x=\"395\" y=\"-477.8\" font-family=\"Helvetica,sans-Serif\" font-size=\"14.00\" fill=\"#000000\">samples = 78</text>\n<text text-anchor=\"start\" x=\"389\" y=\"-463.8\" font-family=\"Helvetica,sans-Serif\" font-size=\"14.00\" fill=\"#000000\">value = [64, 14]</text>\n<text text-anchor=\"start\" x=\"406.5\" y=\"-449.8\" font-family=\"Helvetica,sans-Serif\" font-size=\"14.00\" fill=\"#000000\">class = y</text>\n<text text-anchor=\"start\" x=\"464.5\" y=\"-449.8\" font-family=\"Helvetica,sans-Serif\" baseline-shift=\"sub\" font-size=\"14.00\" fill=\"#000000\">0</text>\n</g>\n<!-- 13&#45;&gt;14 -->\n<g id=\"edge14\" class=\"edge\">\n<title>13&#45;&gt;14</title>\n<path fill=\"none\" stroke=\"#000000\" d=\"M503.9298,-555.7677C496.1518,-546.8111 487.809,-537.2043 479.782,-527.9611\"/>\n<polygon fill=\"#000000\" stroke=\"#000000\" points=\"482.3325,-525.5601 473.133,-520.3046 477.0473,-530.1499 482.3325,-525.5601\"/>\n</g>\n<!-- 23 -->\n<g id=\"node24\" class=\"node\">\n<title>23</title>\n<path fill=\"#fefcfa\" stroke=\"#000000\" d=\"M745.5,-520C745.5,-520 528.5,-520 528.5,-520 522.5,-520 516.5,-514 516.5,-508 516.5,-508 516.5,-454 516.5,-454 516.5,-448 522.5,-442 528.5,-442 528.5,-442 745.5,-442 745.5,-442 751.5,-442 757.5,-448 757.5,-454 757.5,-454 757.5,-508 757.5,-508 757.5,-514 751.5,-520 745.5,-520\"/>\n<text text-anchor=\"start\" x=\"524.5\" y=\"-505.8\" font-family=\"Helvetica,sans-Serif\" font-size=\"14.00\" fill=\"#000000\">DiabetesPedigreeFunction ≤ 0.254</text>\n<text text-anchor=\"start\" x=\"594.5\" y=\"-491.8\" font-family=\"Helvetica,sans-Serif\" font-size=\"14.00\" fill=\"#000000\">entropy = 1.0</text>\n<text text-anchor=\"start\" x=\"593\" y=\"-477.8\" font-family=\"Helvetica,sans-Serif\" font-size=\"14.00\" fill=\"#000000\">samples = 79</text>\n<text text-anchor=\"start\" x=\"587\" y=\"-463.8\" font-family=\"Helvetica,sans-Serif\" font-size=\"14.00\" fill=\"#000000\">value = [40, 39]</text>\n<text text-anchor=\"start\" x=\"604.5\" y=\"-449.8\" font-family=\"Helvetica,sans-Serif\" font-size=\"14.00\" fill=\"#000000\">class = y</text>\n<text text-anchor=\"start\" x=\"662.5\" y=\"-449.8\" font-family=\"Helvetica,sans-Serif\" baseline-shift=\"sub\" font-size=\"14.00\" fill=\"#000000\">0</text>\n</g>\n<!-- 13&#45;&gt;23 -->\n<g id=\"edge23\" class=\"edge\">\n<title>13&#45;&gt;23</title>\n<path fill=\"none\" stroke=\"#000000\" d=\"M572.0702,-555.7677C579.8482,-546.8111 588.191,-537.2043 596.218,-527.9611\"/>\n<polygon fill=\"#000000\" stroke=\"#000000\" points=\"598.9527,-530.1499 602.867,-520.3046 593.6675,-525.5601 598.9527,-530.1499\"/>\n</g>\n<!-- 15 -->\n<g id=\"node16\" class=\"node\">\n<title>15</title>\n<path fill=\"#eca36e\" stroke=\"#000000\" d=\"M406,-406C406,-406 312,-406 312,-406 306,-406 300,-400 300,-394 300,-394 300,-340 300,-340 300,-334 306,-328 312,-328 312,-328 406,-328 406,-328 412,-328 418,-334 418,-340 418,-340 418,-394 418,-394 418,-400 412,-406 406,-406\"/>\n<text text-anchor=\"start\" x=\"324\" y=\"-391.8\" font-family=\"Helvetica,sans-Serif\" font-size=\"14.00\" fill=\"#000000\">BMI ≤ 31.3</text>\n<text text-anchor=\"start\" x=\"308\" y=\"-377.8\" font-family=\"Helvetica,sans-Serif\" font-size=\"14.00\" fill=\"#000000\">entropy = 0.746</text>\n<text text-anchor=\"start\" x=\"315\" y=\"-363.8\" font-family=\"Helvetica,sans-Serif\" font-size=\"14.00\" fill=\"#000000\">samples = 66</text>\n<text text-anchor=\"start\" x=\"309\" y=\"-349.8\" font-family=\"Helvetica,sans-Serif\" font-size=\"14.00\" fill=\"#000000\">value = [52, 14]</text>\n<text text-anchor=\"start\" x=\"326.5\" y=\"-335.8\" font-family=\"Helvetica,sans-Serif\" font-size=\"14.00\" fill=\"#000000\">class = y</text>\n<text text-anchor=\"start\" x=\"384.5\" y=\"-335.8\" font-family=\"Helvetica,sans-Serif\" baseline-shift=\"sub\" font-size=\"14.00\" fill=\"#000000\">0</text>\n</g>\n<!-- 14&#45;&gt;15 -->\n<g id=\"edge15\" class=\"edge\">\n<title>14&#45;&gt;15</title>\n<path fill=\"none\" stroke=\"#000000\" d=\"M411.4685,-441.7677C405.309,-432.9903 398.7111,-423.5883 392.3447,-414.5161\"/>\n<polygon fill=\"#000000\" stroke=\"#000000\" points=\"395.1915,-412.4797 386.5822,-406.3046 389.4616,-416.5007 395.1915,-412.4797\"/>\n</g>\n<!-- 22 -->\n<g id=\"node23\" class=\"node\">\n<title>22</title>\n<path fill=\"#e58139\" stroke=\"#000000\" d=\"M531.5,-399C531.5,-399 448.5,-399 448.5,-399 442.5,-399 436.5,-393 436.5,-387 436.5,-387 436.5,-347 436.5,-347 436.5,-341 442.5,-335 448.5,-335 448.5,-335 531.5,-335 531.5,-335 537.5,-335 543.5,-341 543.5,-347 543.5,-347 543.5,-387 543.5,-387 543.5,-393 537.5,-399 531.5,-399\"/>\n<text text-anchor=\"start\" x=\"447.5\" y=\"-384.8\" font-family=\"Helvetica,sans-Serif\" font-size=\"14.00\" fill=\"#000000\">entropy = 0.0</text>\n<text text-anchor=\"start\" x=\"446\" y=\"-370.8\" font-family=\"Helvetica,sans-Serif\" font-size=\"14.00\" fill=\"#000000\">samples = 12</text>\n<text text-anchor=\"start\" x=\"444.5\" y=\"-356.8\" font-family=\"Helvetica,sans-Serif\" font-size=\"14.00\" fill=\"#000000\">value = [12, 0]</text>\n<text text-anchor=\"start\" x=\"457.5\" y=\"-342.8\" font-family=\"Helvetica,sans-Serif\" font-size=\"14.00\" fill=\"#000000\">class = y</text>\n<text text-anchor=\"start\" x=\"515.5\" y=\"-342.8\" font-family=\"Helvetica,sans-Serif\" baseline-shift=\"sub\" font-size=\"14.00\" fill=\"#000000\">0</text>\n</g>\n<!-- 14&#45;&gt;22 -->\n<g id=\"edge22\" class=\"edge\">\n<title>14&#45;&gt;22</title>\n<path fill=\"none\" stroke=\"#000000\" d=\"M456.5513,-441.7677C461.365,-431.0078 466.5985,-419.3093 471.4654,-408.4303\"/>\n<polygon fill=\"#000000\" stroke=\"#000000\" points=\"474.7393,-409.6827 475.6282,-399.1252 468.3496,-406.8241 474.7393,-409.6827\"/>\n</g>\n<!-- 16 -->\n<g id=\"node17\" class=\"node\">\n<title>16</title>\n<path fill=\"#e68843\" stroke=\"#000000\" d=\"M378,-285C378,-285 284,-285 284,-285 278,-285 272,-279 272,-273 272,-273 272,-233 272,-233 272,-227 278,-221 284,-221 284,-221 378,-221 378,-221 384,-221 390,-227 390,-233 390,-233 390,-273 390,-273 390,-279 384,-285 378,-285\"/>\n<text text-anchor=\"start\" x=\"280\" y=\"-270.8\" font-family=\"Helvetica,sans-Serif\" font-size=\"14.00\" fill=\"#000000\">entropy = 0.286</text>\n<text text-anchor=\"start\" x=\"287\" y=\"-256.8\" font-family=\"Helvetica,sans-Serif\" font-size=\"14.00\" fill=\"#000000\">samples = 20</text>\n<text text-anchor=\"start\" x=\"285.5\" y=\"-242.8\" font-family=\"Helvetica,sans-Serif\" font-size=\"14.00\" fill=\"#000000\">value = [19, 1]</text>\n<text text-anchor=\"start\" x=\"298.5\" y=\"-228.8\" font-family=\"Helvetica,sans-Serif\" font-size=\"14.00\" fill=\"#000000\">class = y</text>\n<text text-anchor=\"start\" x=\"356.5\" y=\"-228.8\" font-family=\"Helvetica,sans-Serif\" baseline-shift=\"sub\" font-size=\"14.00\" fill=\"#000000\">0</text>\n</g>\n<!-- 15&#45;&gt;16 -->\n<g id=\"edge16\" class=\"edge\">\n<title>15&#45;&gt;16</title>\n<path fill=\"none\" stroke=\"#000000\" d=\"M349.364,-327.7677C346.7746,-317.2251 343.9639,-305.7816 341.3381,-295.0907\"/>\n<polygon fill=\"#000000\" stroke=\"#000000\" points=\"344.6747,-294.0017 338.8904,-285.1252 337.8767,-295.6714 344.6747,-294.0017\"/>\n</g>\n<!-- 17 -->\n<g id=\"node18\" class=\"node\">\n<title>17</title>\n<path fill=\"#efb387\" stroke=\"#000000\" d=\"M637.5,-292C637.5,-292 420.5,-292 420.5,-292 414.5,-292 408.5,-286 408.5,-280 408.5,-280 408.5,-226 408.5,-226 408.5,-220 414.5,-214 420.5,-214 420.5,-214 637.5,-214 637.5,-214 643.5,-214 649.5,-220 649.5,-226 649.5,-226 649.5,-280 649.5,-280 649.5,-286 643.5,-292 637.5,-292\"/>\n<text text-anchor=\"start\" x=\"416.5\" y=\"-277.8\" font-family=\"Helvetica,sans-Serif\" font-size=\"14.00\" fill=\"#000000\">DiabetesPedigreeFunction ≤ 0.504</text>\n<text text-anchor=\"start\" x=\"478\" y=\"-263.8\" font-family=\"Helvetica,sans-Serif\" font-size=\"14.00\" fill=\"#000000\">entropy = 0.859</text>\n<text text-anchor=\"start\" x=\"485\" y=\"-249.8\" font-family=\"Helvetica,sans-Serif\" font-size=\"14.00\" fill=\"#000000\">samples = 46</text>\n<text text-anchor=\"start\" x=\"479\" y=\"-235.8\" font-family=\"Helvetica,sans-Serif\" font-size=\"14.00\" fill=\"#000000\">value = [33, 13]</text>\n<text text-anchor=\"start\" x=\"496.5\" y=\"-221.8\" font-family=\"Helvetica,sans-Serif\" font-size=\"14.00\" fill=\"#000000\">class = y</text>\n<text text-anchor=\"start\" x=\"554.5\" y=\"-221.8\" font-family=\"Helvetica,sans-Serif\" baseline-shift=\"sub\" font-size=\"14.00\" fill=\"#000000\">0</text>\n</g>\n<!-- 15&#45;&gt;17 -->\n<g id=\"edge17\" class=\"edge\">\n<title>15&#45;&gt;17</title>\n<path fill=\"none\" stroke=\"#000000\" d=\"M417.5044,-327.7677C431.8758,-318.1303 447.3701,-307.7401 462.1033,-297.8601\"/>\n<polygon fill=\"#000000\" stroke=\"#000000\" points=\"464.3198,-300.5879 470.6759,-292.1115 460.4211,-294.7741 464.3198,-300.5879\"/>\n</g>\n<!-- 18 -->\n<g id=\"node19\" class=\"node\">\n<title>18</title>\n<path fill=\"#eb9e67\" stroke=\"#000000\" d=\"M450,-178C450,-178 356,-178 356,-178 350,-178 344,-172 344,-166 344,-166 344,-112 344,-112 344,-106 350,-100 356,-100 356,-100 450,-100 450,-100 456,-100 462,-106 462,-112 462,-112 462,-166 462,-166 462,-172 456,-178 450,-178\"/>\n<text text-anchor=\"start\" x=\"356\" y=\"-163.8\" font-family=\"Helvetica,sans-Serif\" font-size=\"14.00\" fill=\"#000000\">Insulin ≤ 113.0</text>\n<text text-anchor=\"start\" x=\"352\" y=\"-149.8\" font-family=\"Helvetica,sans-Serif\" font-size=\"14.00\" fill=\"#000000\">entropy = 0.696</text>\n<text text-anchor=\"start\" x=\"359\" y=\"-135.8\" font-family=\"Helvetica,sans-Serif\" font-size=\"14.00\" fill=\"#000000\">samples = 32</text>\n<text text-anchor=\"start\" x=\"357.5\" y=\"-121.8\" font-family=\"Helvetica,sans-Serif\" font-size=\"14.00\" fill=\"#000000\">value = [26, 6]</text>\n<text text-anchor=\"start\" x=\"370.5\" y=\"-107.8\" font-family=\"Helvetica,sans-Serif\" font-size=\"14.00\" fill=\"#000000\">class = y</text>\n<text text-anchor=\"start\" x=\"428.5\" y=\"-107.8\" font-family=\"Helvetica,sans-Serif\" baseline-shift=\"sub\" font-size=\"14.00\" fill=\"#000000\">0</text>\n</g>\n<!-- 17&#45;&gt;18 -->\n<g id=\"edge18\" class=\"edge\">\n<title>17&#45;&gt;18</title>\n<path fill=\"none\" stroke=\"#000000\" d=\"M485.6379,-213.7677C475.4416,-204.5424 464.4828,-194.6273 453.9861,-185.1302\"/>\n<polygon fill=\"#000000\" stroke=\"#000000\" points=\"456.2056,-182.4184 446.442,-178.3046 451.5092,-187.6092 456.2056,-182.4184\"/>\n</g>\n<!-- 21 -->\n<g id=\"node22\" class=\"node\">\n<title>21</title>\n<path fill=\"#ffffff\" stroke=\"#000000\" d=\"M572,-171C572,-171 492,-171 492,-171 486,-171 480,-165 480,-159 480,-159 480,-119 480,-119 480,-113 486,-107 492,-107 492,-107 572,-107 572,-107 578,-107 584,-113 584,-119 584,-119 584,-159 584,-159 584,-165 578,-171 572,-171\"/>\n<text text-anchor=\"start\" x=\"489.5\" y=\"-156.8\" font-family=\"Helvetica,sans-Serif\" font-size=\"14.00\" fill=\"#000000\">entropy = 1.0</text>\n<text text-anchor=\"start\" x=\"488\" y=\"-142.8\" font-family=\"Helvetica,sans-Serif\" font-size=\"14.00\" fill=\"#000000\">samples = 14</text>\n<text text-anchor=\"start\" x=\"490.5\" y=\"-128.8\" font-family=\"Helvetica,sans-Serif\" font-size=\"14.00\" fill=\"#000000\">value = [7, 7]</text>\n<text text-anchor=\"start\" x=\"499.5\" y=\"-114.8\" font-family=\"Helvetica,sans-Serif\" font-size=\"14.00\" fill=\"#000000\">class = y</text>\n<text text-anchor=\"start\" x=\"557.5\" y=\"-114.8\" font-family=\"Helvetica,sans-Serif\" baseline-shift=\"sub\" font-size=\"14.00\" fill=\"#000000\">0</text>\n</g>\n<!-- 17&#45;&gt;21 -->\n<g id=\"edge21\" class=\"edge\">\n<title>17&#45;&gt;21</title>\n<path fill=\"none\" stroke=\"#000000\" d=\"M530.0324,-213.7677C530.307,-203.3338 530.6048,-192.0174 530.8836,-181.4215\"/>\n<polygon fill=\"#000000\" stroke=\"#000000\" points=\"534.3902,-181.2138 531.1546,-171.1252 527.3926,-181.0296 534.3902,-181.2138\"/>\n</g>\n<!-- 19 -->\n<g id=\"node20\" class=\"node\">\n<title>19</title>\n<path fill=\"#e58139\" stroke=\"#000000\" d=\"M339.5,-64C339.5,-64 256.5,-64 256.5,-64 250.5,-64 244.5,-58 244.5,-52 244.5,-52 244.5,-12 244.5,-12 244.5,-6 250.5,0 256.5,0 256.5,0 339.5,0 339.5,0 345.5,0 351.5,-6 351.5,-12 351.5,-12 351.5,-52 351.5,-52 351.5,-58 345.5,-64 339.5,-64\"/>\n<text text-anchor=\"start\" x=\"255.5\" y=\"-49.8\" font-family=\"Helvetica,sans-Serif\" font-size=\"14.00\" fill=\"#000000\">entropy = 0.0</text>\n<text text-anchor=\"start\" x=\"254\" y=\"-35.8\" font-family=\"Helvetica,sans-Serif\" font-size=\"14.00\" fill=\"#000000\">samples = 14</text>\n<text text-anchor=\"start\" x=\"252.5\" y=\"-21.8\" font-family=\"Helvetica,sans-Serif\" font-size=\"14.00\" fill=\"#000000\">value = [14, 0]</text>\n<text text-anchor=\"start\" x=\"265.5\" y=\"-7.8\" font-family=\"Helvetica,sans-Serif\" font-size=\"14.00\" fill=\"#000000\">class = y</text>\n<text text-anchor=\"start\" x=\"323.5\" y=\"-7.8\" font-family=\"Helvetica,sans-Serif\" baseline-shift=\"sub\" font-size=\"14.00\" fill=\"#000000\">0</text>\n</g>\n<!-- 18&#45;&gt;19 -->\n<g id=\"edge19\" class=\"edge\">\n<title>18&#45;&gt;19</title>\n<path fill=\"none\" stroke=\"#000000\" d=\"M364.4981,-99.7647C355.4462,-90.5404 345.7954,-80.7057 336.7333,-71.4711\"/>\n<polygon fill=\"#000000\" stroke=\"#000000\" points=\"339.1169,-68.9029 329.6147,-64.2169 334.1206,-73.8058 339.1169,-68.9029\"/>\n</g>\n<!-- 20 -->\n<g id=\"node21\" class=\"node\">\n<title>20</title>\n<path fill=\"#f2c09c\" stroke=\"#000000\" d=\"M476,-64C476,-64 382,-64 382,-64 376,-64 370,-58 370,-52 370,-52 370,-12 370,-12 370,-6 376,0 382,0 382,0 476,0 476,0 482,0 488,-6 488,-12 488,-12 488,-52 488,-52 488,-58 482,-64 476,-64\"/>\n<text text-anchor=\"start\" x=\"378\" y=\"-49.8\" font-family=\"Helvetica,sans-Serif\" font-size=\"14.00\" fill=\"#000000\">entropy = 0.918</text>\n<text text-anchor=\"start\" x=\"385\" y=\"-35.8\" font-family=\"Helvetica,sans-Serif\" font-size=\"14.00\" fill=\"#000000\">samples = 18</text>\n<text text-anchor=\"start\" x=\"383.5\" y=\"-21.8\" font-family=\"Helvetica,sans-Serif\" font-size=\"14.00\" fill=\"#000000\">value = [12, 6]</text>\n<text text-anchor=\"start\" x=\"396.5\" y=\"-7.8\" font-family=\"Helvetica,sans-Serif\" font-size=\"14.00\" fill=\"#000000\">class = y</text>\n<text text-anchor=\"start\" x=\"454.5\" y=\"-7.8\" font-family=\"Helvetica,sans-Serif\" baseline-shift=\"sub\" font-size=\"14.00\" fill=\"#000000\">0</text>\n</g>\n<!-- 18&#45;&gt;20 -->\n<g id=\"edge20\" class=\"edge\">\n<title>18&#45;&gt;20</title>\n<path fill=\"none\" stroke=\"#000000\" d=\"M412.5338,-99.7647C414.5755,-91.3624 416.7402,-82.4536 418.8058,-73.9532\"/>\n<polygon fill=\"#000000\" stroke=\"#000000\" points=\"422.2114,-74.7606 421.1716,-64.2169 415.4093,-73.1077 422.2114,-74.7606\"/>\n</g>\n<!-- 24 -->\n<g id=\"node25\" class=\"node\">\n<title>24</title>\n<path fill=\"#eca470\" stroke=\"#000000\" d=\"M682,-399C682,-399 588,-399 588,-399 582,-399 576,-393 576,-387 576,-387 576,-347 576,-347 576,-341 582,-335 588,-335 588,-335 682,-335 682,-335 688,-335 694,-341 694,-347 694,-347 694,-387 694,-387 694,-393 688,-399 682,-399\"/>\n<text text-anchor=\"start\" x=\"584\" y=\"-384.8\" font-family=\"Helvetica,sans-Serif\" font-size=\"14.00\" fill=\"#000000\">entropy = 0.755</text>\n<text text-anchor=\"start\" x=\"591\" y=\"-370.8\" font-family=\"Helvetica,sans-Serif\" font-size=\"14.00\" fill=\"#000000\">samples = 23</text>\n<text text-anchor=\"start\" x=\"589.5\" y=\"-356.8\" font-family=\"Helvetica,sans-Serif\" font-size=\"14.00\" fill=\"#000000\">value = [18, 5]</text>\n<text text-anchor=\"start\" x=\"602.5\" y=\"-342.8\" font-family=\"Helvetica,sans-Serif\" font-size=\"14.00\" fill=\"#000000\">class = y</text>\n<text text-anchor=\"start\" x=\"660.5\" y=\"-342.8\" font-family=\"Helvetica,sans-Serif\" baseline-shift=\"sub\" font-size=\"14.00\" fill=\"#000000\">0</text>\n</g>\n<!-- 23&#45;&gt;24 -->\n<g id=\"edge24\" class=\"edge\">\n<title>23&#45;&gt;24</title>\n<path fill=\"none\" stroke=\"#000000\" d=\"M636.3117,-441.7677C636.1287,-431.3338 635.9301,-420.0174 635.7442,-409.4215\"/>\n<polygon fill=\"#000000\" stroke=\"#000000\" points=\"639.2386,-409.0622 635.5636,-399.1252 632.2396,-409.1851 639.2386,-409.0622\"/>\n</g>\n<!-- 25 -->\n<g id=\"node26\" class=\"node\">\n<title>25</title>\n<path fill=\"#b9dcf6\" stroke=\"#000000\" d=\"M822,-406C822,-406 724,-406 724,-406 718,-406 712,-400 712,-394 712,-394 712,-340 712,-340 712,-334 718,-328 724,-328 724,-328 822,-328 822,-328 828,-328 834,-334 834,-340 834,-340 834,-394 834,-394 834,-400 828,-406 822,-406\"/>\n<text text-anchor=\"start\" x=\"720\" y=\"-391.8\" font-family=\"Helvetica,sans-Serif\" font-size=\"14.00\" fill=\"#000000\">Glucose ≤ 119.5</text>\n<text text-anchor=\"start\" x=\"722\" y=\"-377.8\" font-family=\"Helvetica,sans-Serif\" font-size=\"14.00\" fill=\"#000000\">entropy = 0.967</text>\n<text text-anchor=\"start\" x=\"729\" y=\"-363.8\" font-family=\"Helvetica,sans-Serif\" font-size=\"14.00\" fill=\"#000000\">samples = 56</text>\n<text text-anchor=\"start\" x=\"723\" y=\"-349.8\" font-family=\"Helvetica,sans-Serif\" font-size=\"14.00\" fill=\"#000000\">value = [22, 34]</text>\n<text text-anchor=\"start\" x=\"740.5\" y=\"-335.8\" font-family=\"Helvetica,sans-Serif\" font-size=\"14.00\" fill=\"#000000\">class = y</text>\n<text text-anchor=\"start\" x=\"798.5\" y=\"-335.8\" font-family=\"Helvetica,sans-Serif\" baseline-shift=\"sub\" font-size=\"14.00\" fill=\"#000000\">1</text>\n</g>\n<!-- 23&#45;&gt;25 -->\n<g id=\"edge25\" class=\"edge\">\n<title>23&#45;&gt;25</title>\n<path fill=\"none\" stroke=\"#000000\" d=\"M683.8035,-441.7677C694.9159,-432.4529 706.8674,-422.4347 718.2973,-412.8538\"/>\n<polygon fill=\"#000000\" stroke=\"#000000\" points=\"720.6949,-415.411 726.1102,-406.3046 716.1981,-410.0464 720.6949,-415.411\"/>\n</g>\n<!-- 26 -->\n<g id=\"node27\" class=\"node\">\n<title>26</title>\n<path fill=\"#95caf1\" stroke=\"#000000\" d=\"M778,-292C778,-292 680,-292 680,-292 674,-292 668,-286 668,-280 668,-280 668,-226 668,-226 668,-220 674,-214 680,-214 680,-214 778,-214 778,-214 784,-214 790,-220 790,-226 790,-226 790,-280 790,-280 790,-286 784,-292 778,-292\"/>\n<text text-anchor=\"start\" x=\"676\" y=\"-277.8\" font-family=\"Helvetica,sans-Serif\" font-size=\"14.00\" fill=\"#000000\">Glucose ≤ 111.5</text>\n<text text-anchor=\"start\" x=\"678\" y=\"-263.8\" font-family=\"Helvetica,sans-Serif\" font-size=\"14.00\" fill=\"#000000\">entropy = 0.901</text>\n<text text-anchor=\"start\" x=\"685\" y=\"-249.8\" font-family=\"Helvetica,sans-Serif\" font-size=\"14.00\" fill=\"#000000\">samples = 41</text>\n<text text-anchor=\"start\" x=\"679\" y=\"-235.8\" font-family=\"Helvetica,sans-Serif\" font-size=\"14.00\" fill=\"#000000\">value = [13, 28]</text>\n<text text-anchor=\"start\" x=\"696.5\" y=\"-221.8\" font-family=\"Helvetica,sans-Serif\" font-size=\"14.00\" fill=\"#000000\">class = y</text>\n<text text-anchor=\"start\" x=\"754.5\" y=\"-221.8\" font-family=\"Helvetica,sans-Serif\" baseline-shift=\"sub\" font-size=\"14.00\" fill=\"#000000\">1</text>\n</g>\n<!-- 25&#45;&gt;26 -->\n<g id=\"edge26\" class=\"edge\">\n<title>25&#45;&gt;26</title>\n<path fill=\"none\" stroke=\"#000000\" d=\"M757.8577,-327.7677C754.6428,-319.4381 751.2108,-310.5461 747.8765,-301.9072\"/>\n<polygon fill=\"#000000\" stroke=\"#000000\" points=\"751.0363,-300.3736 744.1702,-292.3046 744.5058,-302.8942 751.0363,-300.3736\"/>\n</g>\n<!-- 31 -->\n<g id=\"node32\" class=\"node\">\n<title>31</title>\n<path fill=\"#f6d5bd\" stroke=\"#000000\" d=\"M914,-285C914,-285 820,-285 820,-285 814,-285 808,-279 808,-273 808,-273 808,-233 808,-233 808,-227 814,-221 820,-221 820,-221 914,-221 914,-221 920,-221 926,-227 926,-233 926,-233 926,-273 926,-273 926,-279 920,-285 914,-285\"/>\n<text text-anchor=\"start\" x=\"816\" y=\"-270.8\" font-family=\"Helvetica,sans-Serif\" font-size=\"14.00\" fill=\"#000000\">entropy = 0.971</text>\n<text text-anchor=\"start\" x=\"823\" y=\"-256.8\" font-family=\"Helvetica,sans-Serif\" font-size=\"14.00\" fill=\"#000000\">samples = 15</text>\n<text text-anchor=\"start\" x=\"825.5\" y=\"-242.8\" font-family=\"Helvetica,sans-Serif\" font-size=\"14.00\" fill=\"#000000\">value = [9, 6]</text>\n<text text-anchor=\"start\" x=\"834.5\" y=\"-228.8\" font-family=\"Helvetica,sans-Serif\" font-size=\"14.00\" fill=\"#000000\">class = y</text>\n<text text-anchor=\"start\" x=\"892.5\" y=\"-228.8\" font-family=\"Helvetica,sans-Serif\" baseline-shift=\"sub\" font-size=\"14.00\" fill=\"#000000\">0</text>\n</g>\n<!-- 25&#45;&gt;31 -->\n<g id=\"edge31\" class=\"edge\">\n<title>25&#45;&gt;31</title>\n<path fill=\"none\" stroke=\"#000000\" d=\"M805.3495,-327.7677C814.5801,-316.573 824.6485,-304.3624 833.9221,-293.1158\"/>\n<polygon fill=\"#000000\" stroke=\"#000000\" points=\"836.8493,-295.0673 840.5108,-285.1252 831.4486,-290.614 836.8493,-295.0673\"/>\n</g>\n<!-- 27 -->\n<g id=\"node28\" class=\"node\">\n<title>27</title>\n<path fill=\"#e3f1fb\" stroke=\"#000000\" d=\"M835.5,-178C835.5,-178 618.5,-178 618.5,-178 612.5,-178 606.5,-172 606.5,-166 606.5,-166 606.5,-112 606.5,-112 606.5,-106 612.5,-100 618.5,-100 618.5,-100 835.5,-100 835.5,-100 841.5,-100 847.5,-106 847.5,-112 847.5,-112 847.5,-166 847.5,-166 847.5,-172 841.5,-178 835.5,-178\"/>\n<text text-anchor=\"start\" x=\"614.5\" y=\"-163.8\" font-family=\"Helvetica,sans-Serif\" font-size=\"14.00\" fill=\"#000000\">DiabetesPedigreeFunction ≤ 0.598</text>\n<text text-anchor=\"start\" x=\"676\" y=\"-149.8\" font-family=\"Helvetica,sans-Serif\" font-size=\"14.00\" fill=\"#000000\">entropy = 0.996</text>\n<text text-anchor=\"start\" x=\"683\" y=\"-135.8\" font-family=\"Helvetica,sans-Serif\" font-size=\"14.00\" fill=\"#000000\">samples = 26</text>\n<text text-anchor=\"start\" x=\"677\" y=\"-121.8\" font-family=\"Helvetica,sans-Serif\" font-size=\"14.00\" fill=\"#000000\">value = [12, 14]</text>\n<text text-anchor=\"start\" x=\"694.5\" y=\"-107.8\" font-family=\"Helvetica,sans-Serif\" font-size=\"14.00\" fill=\"#000000\">class = y</text>\n<text text-anchor=\"start\" x=\"752.5\" y=\"-107.8\" font-family=\"Helvetica,sans-Serif\" baseline-shift=\"sub\" font-size=\"14.00\" fill=\"#000000\">1</text>\n</g>\n<!-- 26&#45;&gt;27 -->\n<g id=\"edge27\" class=\"edge\">\n<title>26&#45;&gt;27</title>\n<path fill=\"none\" stroke=\"#000000\" d=\"M728.3117,-213.7677C728.1687,-205.6172 728.0163,-196.9283 727.8678,-188.4649\"/>\n<polygon fill=\"#000000\" stroke=\"#000000\" points=\"731.3645,-188.2417 727.6896,-178.3046 724.3656,-188.3645 731.3645,-188.2417\"/>\n</g>\n<!-- 30 -->\n<g id=\"node31\" class=\"node\">\n<title>30</title>\n<path fill=\"#47a4e7\" stroke=\"#000000\" d=\"M972,-171C972,-171 878,-171 878,-171 872,-171 866,-165 866,-159 866,-159 866,-119 866,-119 866,-113 872,-107 878,-107 878,-107 972,-107 972,-107 978,-107 984,-113 984,-119 984,-119 984,-159 984,-159 984,-165 978,-171 972,-171\"/>\n<text text-anchor=\"start\" x=\"874\" y=\"-156.8\" font-family=\"Helvetica,sans-Serif\" font-size=\"14.00\" fill=\"#000000\">entropy = 0.353</text>\n<text text-anchor=\"start\" x=\"881\" y=\"-142.8\" font-family=\"Helvetica,sans-Serif\" font-size=\"14.00\" fill=\"#000000\">samples = 15</text>\n<text text-anchor=\"start\" x=\"879.5\" y=\"-128.8\" font-family=\"Helvetica,sans-Serif\" font-size=\"14.00\" fill=\"#000000\">value = [1, 14]</text>\n<text text-anchor=\"start\" x=\"892.5\" y=\"-114.8\" font-family=\"Helvetica,sans-Serif\" font-size=\"14.00\" fill=\"#000000\">class = y</text>\n<text text-anchor=\"start\" x=\"950.5\" y=\"-114.8\" font-family=\"Helvetica,sans-Serif\" baseline-shift=\"sub\" font-size=\"14.00\" fill=\"#000000\">1</text>\n</g>\n<!-- 26&#45;&gt;30 -->\n<g id=\"edge30\" class=\"edge\">\n<title>26&#45;&gt;30</title>\n<path fill=\"none\" stroke=\"#000000\" d=\"M790.2094,-217.3986C812.7185,-204.3066 838.2567,-189.4527 861.0046,-176.2218\"/>\n<polygon fill=\"#000000\" stroke=\"#000000\" points=\"863.0179,-179.0998 869.9024,-171.0466 859.4985,-173.0489 863.0179,-179.0998\"/>\n</g>\n<!-- 28 -->\n<g id=\"node29\" class=\"node\">\n<title>28</title>\n<path fill=\"#f8e0ce\" stroke=\"#000000\" d=\"M706,-64C706,-64 612,-64 612,-64 606,-64 600,-58 600,-52 600,-52 600,-12 600,-12 600,-6 606,0 612,0 612,0 706,0 706,0 712,0 718,-6 718,-12 718,-12 718,-52 718,-52 718,-58 712,-64 706,-64\"/>\n<text text-anchor=\"start\" x=\"608\" y=\"-49.8\" font-family=\"Helvetica,sans-Serif\" font-size=\"14.00\" fill=\"#000000\">entropy = 0.985</text>\n<text text-anchor=\"start\" x=\"615\" y=\"-35.8\" font-family=\"Helvetica,sans-Serif\" font-size=\"14.00\" fill=\"#000000\">samples = 14</text>\n<text text-anchor=\"start\" x=\"617.5\" y=\"-21.8\" font-family=\"Helvetica,sans-Serif\" font-size=\"14.00\" fill=\"#000000\">value = [8, 6]</text>\n<text text-anchor=\"start\" x=\"626.5\" y=\"-7.8\" font-family=\"Helvetica,sans-Serif\" font-size=\"14.00\" fill=\"#000000\">class = y</text>\n<text text-anchor=\"start\" x=\"684.5\" y=\"-7.8\" font-family=\"Helvetica,sans-Serif\" baseline-shift=\"sub\" font-size=\"14.00\" fill=\"#000000\">0</text>\n</g>\n<!-- 27&#45;&gt;28 -->\n<g id=\"edge28\" class=\"edge\">\n<title>27&#45;&gt;28</title>\n<path fill=\"none\" stroke=\"#000000\" d=\"M702.0654,-99.7647C696.4935,-90.9971 690.571,-81.678 684.9587,-72.8469\"/>\n<polygon fill=\"#000000\" stroke=\"#000000\" points=\"687.7919,-70.7795 679.4743,-64.2169 681.884,-74.534 687.7919,-70.7795\"/>\n</g>\n<!-- 29 -->\n<g id=\"node30\" class=\"node\">\n<title>29</title>\n<path fill=\"#9ccef2\" stroke=\"#000000\" d=\"M842,-64C842,-64 748,-64 748,-64 742,-64 736,-58 736,-52 736,-52 736,-12 736,-12 736,-6 742,0 748,0 748,0 842,0 842,0 848,0 854,-6 854,-12 854,-12 854,-52 854,-52 854,-58 848,-64 842,-64\"/>\n<text text-anchor=\"start\" x=\"744\" y=\"-49.8\" font-family=\"Helvetica,sans-Serif\" font-size=\"14.00\" fill=\"#000000\">entropy = 0.918</text>\n<text text-anchor=\"start\" x=\"751\" y=\"-35.8\" font-family=\"Helvetica,sans-Serif\" font-size=\"14.00\" fill=\"#000000\">samples = 12</text>\n<text text-anchor=\"start\" x=\"753.5\" y=\"-21.8\" font-family=\"Helvetica,sans-Serif\" font-size=\"14.00\" fill=\"#000000\">value = [4, 8]</text>\n<text text-anchor=\"start\" x=\"762.5\" y=\"-7.8\" font-family=\"Helvetica,sans-Serif\" font-size=\"14.00\" fill=\"#000000\">class = y</text>\n<text text-anchor=\"start\" x=\"820.5\" y=\"-7.8\" font-family=\"Helvetica,sans-Serif\" baseline-shift=\"sub\" font-size=\"14.00\" fill=\"#000000\">1</text>\n</g>\n<!-- 27&#45;&gt;29 -->\n<g id=\"edge29\" class=\"edge\">\n<title>27&#45;&gt;29</title>\n<path fill=\"none\" stroke=\"#000000\" d=\"M751.9346,-99.7647C757.5065,-90.9971 763.429,-81.678 769.0413,-72.8469\"/>\n<polygon fill=\"#000000\" stroke=\"#000000\" points=\"772.116,-74.534 774.5257,-64.2169 766.2081,-70.7795 772.116,-74.534\"/>\n</g>\n<!-- 33 -->\n<g id=\"node34\" class=\"node\">\n<title>33</title>\n<path fill=\"#f3c3a0\" stroke=\"#000000\" d=\"M1074,-748C1074,-748 980,-748 980,-748 974,-748 968,-742 968,-736 968,-736 968,-682 968,-682 968,-676 974,-670 980,-670 980,-670 1074,-670 1074,-670 1080,-670 1086,-676 1086,-682 1086,-682 1086,-736 1086,-736 1086,-742 1080,-748 1074,-748\"/>\n<text text-anchor=\"start\" x=\"992\" y=\"-733.8\" font-family=\"Helvetica,sans-Serif\" font-size=\"14.00\" fill=\"#000000\">Age ≤ 26.5</text>\n<text text-anchor=\"start\" x=\"976\" y=\"-719.8\" font-family=\"Helvetica,sans-Serif\" font-size=\"14.00\" fill=\"#000000\">entropy = 0.927</text>\n<text text-anchor=\"start\" x=\"983\" y=\"-705.8\" font-family=\"Helvetica,sans-Serif\" font-size=\"14.00\" fill=\"#000000\">samples = 76</text>\n<text text-anchor=\"start\" x=\"977\" y=\"-691.8\" font-family=\"Helvetica,sans-Serif\" font-size=\"14.00\" fill=\"#000000\">value = [50, 26]</text>\n<text text-anchor=\"start\" x=\"994.5\" y=\"-677.8\" font-family=\"Helvetica,sans-Serif\" font-size=\"14.00\" fill=\"#000000\">class = y</text>\n<text text-anchor=\"start\" x=\"1052.5\" y=\"-677.8\" font-family=\"Helvetica,sans-Serif\" baseline-shift=\"sub\" font-size=\"14.00\" fill=\"#000000\">0</text>\n</g>\n<!-- 32&#45;&gt;33 -->\n<g id=\"edge33\" class=\"edge\">\n<title>32&#45;&gt;33</title>\n<path fill=\"none\" stroke=\"#000000\" d=\"M1027,-783.7677C1027,-775.6172 1027,-766.9283 1027,-758.4649\"/>\n<polygon fill=\"#000000\" stroke=\"#000000\" points=\"1030.5001,-758.3046 1027,-748.3046 1023.5001,-758.3047 1030.5001,-758.3046\"/>\n</g>\n<!-- 44 -->\n<g id=\"node45\" class=\"node\">\n<title>44</title>\n<path fill=\"#7ebfee\" stroke=\"#000000\" d=\"M1478,-748C1478,-748 1378,-748 1378,-748 1372,-748 1366,-742 1366,-736 1366,-736 1366,-682 1366,-682 1366,-676 1372,-670 1378,-670 1378,-670 1478,-670 1478,-670 1484,-670 1490,-676 1490,-682 1490,-682 1490,-736 1490,-736 1490,-742 1484,-748 1478,-748\"/>\n<text text-anchor=\"start\" x=\"1375\" y=\"-733.8\" font-family=\"Helvetica,sans-Serif\" font-size=\"14.00\" fill=\"#000000\">Glucose ≤ 155.0</text>\n<text text-anchor=\"start\" x=\"1377\" y=\"-719.8\" font-family=\"Helvetica,sans-Serif\" font-size=\"14.00\" fill=\"#000000\">entropy = 0.824</text>\n<text text-anchor=\"start\" x=\"1380\" y=\"-705.8\" font-family=\"Helvetica,sans-Serif\" font-size=\"14.00\" fill=\"#000000\">samples = 155</text>\n<text text-anchor=\"start\" x=\"1374\" y=\"-691.8\" font-family=\"Helvetica,sans-Serif\" font-size=\"14.00\" fill=\"#000000\">value = [40, 115]</text>\n<text text-anchor=\"start\" x=\"1395.5\" y=\"-677.8\" font-family=\"Helvetica,sans-Serif\" font-size=\"14.00\" fill=\"#000000\">class = y</text>\n<text text-anchor=\"start\" x=\"1453.5\" y=\"-677.8\" font-family=\"Helvetica,sans-Serif\" baseline-shift=\"sub\" font-size=\"14.00\" fill=\"#000000\">1</text>\n</g>\n<!-- 32&#45;&gt;44 -->\n<g id=\"edge44\" class=\"edge\">\n<title>32&#45;&gt;44</title>\n<path fill=\"none\" stroke=\"#000000\" d=\"M1089.2163,-805.3126C1161.3244,-784.813 1279.9583,-751.0867 1355.9921,-729.4711\"/>\n<polygon fill=\"#000000\" stroke=\"#000000\" points=\"1357.306,-732.7363 1365.9677,-726.6351 1355.3917,-726.0031 1357.306,-732.7363\"/>\n</g>\n<!-- 34 -->\n<g id=\"node35\" class=\"node\">\n<title>34</title>\n<path fill=\"#e78c4b\" stroke=\"#000000\" d=\"M1036.5,-634C1036.5,-634 819.5,-634 819.5,-634 813.5,-634 807.5,-628 807.5,-622 807.5,-622 807.5,-568 807.5,-568 807.5,-562 813.5,-556 819.5,-556 819.5,-556 1036.5,-556 1036.5,-556 1042.5,-556 1048.5,-562 1048.5,-568 1048.5,-568 1048.5,-622 1048.5,-622 1048.5,-628 1042.5,-634 1036.5,-634\"/>\n<text text-anchor=\"start\" x=\"815.5\" y=\"-619.8\" font-family=\"Helvetica,sans-Serif\" font-size=\"14.00\" fill=\"#000000\">DiabetesPedigreeFunction ≤ 0.377</text>\n<text text-anchor=\"start\" x=\"877\" y=\"-605.8\" font-family=\"Helvetica,sans-Serif\" font-size=\"14.00\" fill=\"#000000\">entropy = 0.414</text>\n<text text-anchor=\"start\" x=\"884\" y=\"-591.8\" font-family=\"Helvetica,sans-Serif\" font-size=\"14.00\" fill=\"#000000\">samples = 24</text>\n<text text-anchor=\"start\" x=\"882.5\" y=\"-577.8\" font-family=\"Helvetica,sans-Serif\" font-size=\"14.00\" fill=\"#000000\">value = [22, 2]</text>\n<text text-anchor=\"start\" x=\"895.5\" y=\"-563.8\" font-family=\"Helvetica,sans-Serif\" font-size=\"14.00\" fill=\"#000000\">class = y</text>\n<text text-anchor=\"start\" x=\"953.5\" y=\"-563.8\" font-family=\"Helvetica,sans-Serif\" baseline-shift=\"sub\" font-size=\"14.00\" fill=\"#000000\">0</text>\n</g>\n<!-- 33&#45;&gt;34 -->\n<g id=\"edge34\" class=\"edge\">\n<title>33&#45;&gt;34</title>\n<path fill=\"none\" stroke=\"#000000\" d=\"M992.9298,-669.7677C985.1518,-660.8111 976.809,-651.2043 968.782,-641.9611\"/>\n<polygon fill=\"#000000\" stroke=\"#000000\" points=\"971.3325,-639.5601 962.133,-634.3046 966.0473,-644.1499 971.3325,-639.5601\"/>\n</g>\n<!-- 37 -->\n<g id=\"node38\" class=\"node\">\n<title>37</title>\n<path fill=\"#fbede3\" stroke=\"#000000\" d=\"M1173,-634C1173,-634 1079,-634 1079,-634 1073,-634 1067,-628 1067,-622 1067,-622 1067,-568 1067,-568 1067,-562 1073,-556 1079,-556 1079,-556 1173,-556 1173,-556 1179,-556 1185,-562 1185,-568 1185,-568 1185,-622 1185,-622 1185,-628 1179,-634 1173,-634\"/>\n<text text-anchor=\"start\" x=\"1091\" y=\"-619.8\" font-family=\"Helvetica,sans-Serif\" font-size=\"14.00\" fill=\"#000000\">Age ≤ 53.5</text>\n<text text-anchor=\"start\" x=\"1075\" y=\"-605.8\" font-family=\"Helvetica,sans-Serif\" font-size=\"14.00\" fill=\"#000000\">entropy = 0.996</text>\n<text text-anchor=\"start\" x=\"1082\" y=\"-591.8\" font-family=\"Helvetica,sans-Serif\" font-size=\"14.00\" fill=\"#000000\">samples = 52</text>\n<text text-anchor=\"start\" x=\"1076\" y=\"-577.8\" font-family=\"Helvetica,sans-Serif\" font-size=\"14.00\" fill=\"#000000\">value = [28, 24]</text>\n<text text-anchor=\"start\" x=\"1093.5\" y=\"-563.8\" font-family=\"Helvetica,sans-Serif\" font-size=\"14.00\" fill=\"#000000\">class = y</text>\n<text text-anchor=\"start\" x=\"1151.5\" y=\"-563.8\" font-family=\"Helvetica,sans-Serif\" baseline-shift=\"sub\" font-size=\"14.00\" fill=\"#000000\">0</text>\n</g>\n<!-- 33&#45;&gt;37 -->\n<g id=\"edge37\" class=\"edge\">\n<title>33&#45;&gt;37</title>\n<path fill=\"none\" stroke=\"#000000\" d=\"M1061.0702,-669.7677C1068.8482,-660.8111 1077.191,-651.2043 1085.218,-641.9611\"/>\n<polygon fill=\"#000000\" stroke=\"#000000\" points=\"1087.9527,-644.1499 1091.867,-634.3046 1082.6675,-639.5601 1087.9527,-644.1499\"/>\n</g>\n<!-- 35 -->\n<g id=\"node36\" class=\"node\">\n<title>35</title>\n<path fill=\"#e58139\" stroke=\"#000000\" d=\"M872.5,-513C872.5,-513 789.5,-513 789.5,-513 783.5,-513 777.5,-507 777.5,-501 777.5,-501 777.5,-461 777.5,-461 777.5,-455 783.5,-449 789.5,-449 789.5,-449 872.5,-449 872.5,-449 878.5,-449 884.5,-455 884.5,-461 884.5,-461 884.5,-501 884.5,-501 884.5,-507 878.5,-513 872.5,-513\"/>\n<text text-anchor=\"start\" x=\"788.5\" y=\"-498.8\" font-family=\"Helvetica,sans-Serif\" font-size=\"14.00\" fill=\"#000000\">entropy = 0.0</text>\n<text text-anchor=\"start\" x=\"787\" y=\"-484.8\" font-family=\"Helvetica,sans-Serif\" font-size=\"14.00\" fill=\"#000000\">samples = 12</text>\n<text text-anchor=\"start\" x=\"785.5\" y=\"-470.8\" font-family=\"Helvetica,sans-Serif\" font-size=\"14.00\" fill=\"#000000\">value = [12, 0]</text>\n<text text-anchor=\"start\" x=\"798.5\" y=\"-456.8\" font-family=\"Helvetica,sans-Serif\" font-size=\"14.00\" fill=\"#000000\">class = y</text>\n<text text-anchor=\"start\" x=\"856.5\" y=\"-456.8\" font-family=\"Helvetica,sans-Serif\" baseline-shift=\"sub\" font-size=\"14.00\" fill=\"#000000\">0</text>\n</g>\n<!-- 34&#45;&gt;35 -->\n<g id=\"edge35\" class=\"edge\">\n<title>34&#45;&gt;35</title>\n<path fill=\"none\" stroke=\"#000000\" d=\"M894.6181,-555.7677C885.0003,-544.4643 874.5013,-532.1252 864.8551,-520.7885\"/>\n<polygon fill=\"#000000\" stroke=\"#000000\" points=\"867.4806,-518.4732 858.3346,-513.1252 862.1494,-523.0095 867.4806,-518.4732\"/>\n</g>\n<!-- 36 -->\n<g id=\"node37\" class=\"node\">\n<title>36</title>\n<path fill=\"#ea9a61\" stroke=\"#000000\" d=\"M1001,-513C1001,-513 915,-513 915,-513 909,-513 903,-507 903,-501 903,-501 903,-461 903,-461 903,-455 909,-449 915,-449 915,-449 1001,-449 1001,-449 1007,-449 1013,-455 1013,-461 1013,-461 1013,-501 1013,-501 1013,-507 1007,-513 1001,-513\"/>\n<text text-anchor=\"start\" x=\"911\" y=\"-498.8\" font-family=\"Helvetica,sans-Serif\" font-size=\"14.00\" fill=\"#000000\">entropy = 0.65</text>\n<text text-anchor=\"start\" x=\"914\" y=\"-484.8\" font-family=\"Helvetica,sans-Serif\" font-size=\"14.00\" fill=\"#000000\">samples = 12</text>\n<text text-anchor=\"start\" x=\"912.5\" y=\"-470.8\" font-family=\"Helvetica,sans-Serif\" font-size=\"14.00\" fill=\"#000000\">value = [10, 2]</text>\n<text text-anchor=\"start\" x=\"925.5\" y=\"-456.8\" font-family=\"Helvetica,sans-Serif\" font-size=\"14.00\" fill=\"#000000\">class = y</text>\n<text text-anchor=\"start\" x=\"983.5\" y=\"-456.8\" font-family=\"Helvetica,sans-Serif\" baseline-shift=\"sub\" font-size=\"14.00\" fill=\"#000000\">0</text>\n</g>\n<!-- 34&#45;&gt;36 -->\n<g id=\"edge36\" class=\"edge\">\n<title>34&#45;&gt;36</title>\n<path fill=\"none\" stroke=\"#000000\" d=\"M938.3243,-555.7677C941.0987,-545.2251 944.1101,-533.7816 946.9235,-523.0907\"/>\n<polygon fill=\"#000000\" stroke=\"#000000\" points=\"950.3858,-523.6867 949.546,-513.1252 943.6162,-521.9052 950.3858,-523.6867\"/>\n</g>\n<!-- 38 -->\n<g id=\"node39\" class=\"node\">\n<title>38</title>\n<path fill=\"#c9e4f8\" stroke=\"#000000\" d=\"M1144,-520C1144,-520 1050,-520 1050,-520 1044,-520 1038,-514 1038,-508 1038,-508 1038,-454 1038,-454 1038,-448 1044,-442 1050,-442 1050,-442 1144,-442 1144,-442 1150,-442 1156,-448 1156,-454 1156,-454 1156,-508 1156,-508 1156,-514 1150,-520 1144,-520\"/>\n<text text-anchor=\"start\" x=\"1062\" y=\"-505.8\" font-family=\"Helvetica,sans-Serif\" font-size=\"14.00\" fill=\"#000000\">Age ≤ 41.0</text>\n<text text-anchor=\"start\" x=\"1046\" y=\"-491.8\" font-family=\"Helvetica,sans-Serif\" font-size=\"14.00\" fill=\"#000000\">entropy = 0.982</text>\n<text text-anchor=\"start\" x=\"1053\" y=\"-477.8\" font-family=\"Helvetica,sans-Serif\" font-size=\"14.00\" fill=\"#000000\">samples = 38</text>\n<text text-anchor=\"start\" x=\"1047\" y=\"-463.8\" font-family=\"Helvetica,sans-Serif\" font-size=\"14.00\" fill=\"#000000\">value = [16, 22]</text>\n<text text-anchor=\"start\" x=\"1064.5\" y=\"-449.8\" font-family=\"Helvetica,sans-Serif\" font-size=\"14.00\" fill=\"#000000\">class = y</text>\n<text text-anchor=\"start\" x=\"1122.5\" y=\"-449.8\" font-family=\"Helvetica,sans-Serif\" baseline-shift=\"sub\" font-size=\"14.00\" fill=\"#000000\">1</text>\n</g>\n<!-- 37&#45;&gt;38 -->\n<g id=\"edge38\" class=\"edge\">\n<title>37&#45;&gt;38</title>\n<path fill=\"none\" stroke=\"#000000\" d=\"M1116.0198,-555.7677C1113.9237,-547.5277 1111.6875,-538.7372 1109.5122,-530.1859\"/>\n<polygon fill=\"#000000\" stroke=\"#000000\" points=\"1112.8559,-529.1331 1106.9986,-520.3046 1106.072,-530.8589 1112.8559,-529.1331\"/>\n</g>\n<!-- 43 -->\n<g id=\"node44\" class=\"node\">\n<title>43</title>\n<path fill=\"#e9965a\" stroke=\"#000000\" d=\"M1280,-513C1280,-513 1186,-513 1186,-513 1180,-513 1174,-507 1174,-501 1174,-501 1174,-461 1174,-461 1174,-455 1180,-449 1186,-449 1186,-449 1280,-449 1280,-449 1286,-449 1292,-455 1292,-461 1292,-461 1292,-501 1292,-501 1292,-507 1286,-513 1280,-513\"/>\n<text text-anchor=\"start\" x=\"1182\" y=\"-498.8\" font-family=\"Helvetica,sans-Serif\" font-size=\"14.00\" fill=\"#000000\">entropy = 0.592</text>\n<text text-anchor=\"start\" x=\"1189\" y=\"-484.8\" font-family=\"Helvetica,sans-Serif\" font-size=\"14.00\" fill=\"#000000\">samples = 14</text>\n<text text-anchor=\"start\" x=\"1187.5\" y=\"-470.8\" font-family=\"Helvetica,sans-Serif\" font-size=\"14.00\" fill=\"#000000\">value = [12, 2]</text>\n<text text-anchor=\"start\" x=\"1200.5\" y=\"-456.8\" font-family=\"Helvetica,sans-Serif\" font-size=\"14.00\" fill=\"#000000\">class = y</text>\n<text text-anchor=\"start\" x=\"1258.5\" y=\"-456.8\" font-family=\"Helvetica,sans-Serif\" baseline-shift=\"sub\" font-size=\"14.00\" fill=\"#000000\">0</text>\n</g>\n<!-- 37&#45;&gt;43 -->\n<g id=\"edge43\" class=\"edge\">\n<title>37&#45;&gt;43</title>\n<path fill=\"none\" stroke=\"#000000\" d=\"M1162.8233,-555.7677C1173.5346,-544.3556 1185.2368,-531.8878 1195.9613,-520.4618\"/>\n<polygon fill=\"#000000\" stroke=\"#000000\" points=\"1198.5557,-522.8119 1202.8474,-513.1252 1193.4517,-518.0213 1198.5557,-522.8119\"/>\n</g>\n<!-- 39 -->\n<g id=\"node40\" class=\"node\">\n<title>39</title>\n<path fill=\"#f9e4d5\" stroke=\"#000000\" d=\"M1045,-406C1045,-406 953,-406 953,-406 947,-406 941,-400 941,-394 941,-394 941,-340 941,-340 941,-334 947,-328 953,-328 953,-328 1045,-328 1045,-328 1051,-328 1057,-334 1057,-340 1057,-340 1057,-394 1057,-394 1057,-400 1051,-406 1045,-406\"/>\n<text text-anchor=\"start\" x=\"964\" y=\"-391.8\" font-family=\"Helvetica,sans-Serif\" font-size=\"14.00\" fill=\"#000000\">Age ≤ 35.0</text>\n<text text-anchor=\"start\" x=\"952\" y=\"-377.8\" font-family=\"Helvetica,sans-Serif\" font-size=\"14.00\" fill=\"#000000\">entropy = 0.99</text>\n<text text-anchor=\"start\" x=\"955\" y=\"-363.8\" font-family=\"Helvetica,sans-Serif\" font-size=\"14.00\" fill=\"#000000\">samples = 25</text>\n<text text-anchor=\"start\" x=\"949\" y=\"-349.8\" font-family=\"Helvetica,sans-Serif\" font-size=\"14.00\" fill=\"#000000\">value = [14, 11]</text>\n<text text-anchor=\"start\" x=\"966.5\" y=\"-335.8\" font-family=\"Helvetica,sans-Serif\" font-size=\"14.00\" fill=\"#000000\">class = y</text>\n<text text-anchor=\"start\" x=\"1024.5\" y=\"-335.8\" font-family=\"Helvetica,sans-Serif\" baseline-shift=\"sub\" font-size=\"14.00\" fill=\"#000000\">0</text>\n</g>\n<!-- 38&#45;&gt;39 -->\n<g id=\"edge39\" class=\"edge\">\n<title>38&#45;&gt;39</title>\n<path fill=\"none\" stroke=\"#000000\" d=\"M1063.274,-441.7677C1055.5745,-432.8111 1047.316,-423.2043 1039.3701,-413.9611\"/>\n<polygon fill=\"#000000\" stroke=\"#000000\" points=\"1041.9612,-411.6062 1032.7882,-406.3046 1036.653,-416.1695 1041.9612,-411.6062\"/>\n</g>\n<!-- 42 -->\n<g id=\"node43\" class=\"node\">\n<title>42</title>\n<path fill=\"#5dafea\" stroke=\"#000000\" d=\"M1181,-399C1181,-399 1087,-399 1087,-399 1081,-399 1075,-393 1075,-387 1075,-387 1075,-347 1075,-347 1075,-341 1081,-335 1087,-335 1087,-335 1181,-335 1181,-335 1187,-335 1193,-341 1193,-347 1193,-347 1193,-387 1193,-387 1193,-393 1187,-399 1181,-399\"/>\n<text text-anchor=\"start\" x=\"1083\" y=\"-384.8\" font-family=\"Helvetica,sans-Serif\" font-size=\"14.00\" fill=\"#000000\">entropy = 0.619</text>\n<text text-anchor=\"start\" x=\"1090\" y=\"-370.8\" font-family=\"Helvetica,sans-Serif\" font-size=\"14.00\" fill=\"#000000\">samples = 13</text>\n<text text-anchor=\"start\" x=\"1088.5\" y=\"-356.8\" font-family=\"Helvetica,sans-Serif\" font-size=\"14.00\" fill=\"#000000\">value = [2, 11]</text>\n<text text-anchor=\"start\" x=\"1101.5\" y=\"-342.8\" font-family=\"Helvetica,sans-Serif\" font-size=\"14.00\" fill=\"#000000\">class = y</text>\n<text text-anchor=\"start\" x=\"1159.5\" y=\"-342.8\" font-family=\"Helvetica,sans-Serif\" baseline-shift=\"sub\" font-size=\"14.00\" fill=\"#000000\">1</text>\n</g>\n<!-- 38&#45;&gt;42 -->\n<g id=\"edge42\" class=\"edge\">\n<title>38&#45;&gt;42</title>\n<path fill=\"none\" stroke=\"#000000\" d=\"M1109.7333,-441.7677C1113.1903,-431.1164 1116.9458,-419.5455 1120.4462,-408.7603\"/>\n<polygon fill=\"#000000\" stroke=\"#000000\" points=\"1123.8153,-409.7173 1123.5734,-399.1252 1117.1572,-407.5563 1123.8153,-409.7173\"/>\n</g>\n<!-- 40 -->\n<g id=\"node41\" class=\"node\">\n<title>40</title>\n<path fill=\"#91c9f1\" stroke=\"#000000\" d=\"M1042,-285C1042,-285 956,-285 956,-285 950,-285 944,-279 944,-273 944,-273 944,-233 944,-233 944,-227 950,-221 956,-221 956,-221 1042,-221 1042,-221 1048,-221 1054,-227 1054,-233 1054,-233 1054,-273 1054,-273 1054,-279 1048,-285 1042,-285\"/>\n<text text-anchor=\"start\" x=\"952\" y=\"-270.8\" font-family=\"Helvetica,sans-Serif\" font-size=\"14.00\" fill=\"#000000\">entropy = 0.89</text>\n<text text-anchor=\"start\" x=\"955\" y=\"-256.8\" font-family=\"Helvetica,sans-Serif\" font-size=\"14.00\" fill=\"#000000\">samples = 13</text>\n<text text-anchor=\"start\" x=\"957.5\" y=\"-242.8\" font-family=\"Helvetica,sans-Serif\" font-size=\"14.00\" fill=\"#000000\">value = [4, 9]</text>\n<text text-anchor=\"start\" x=\"966.5\" y=\"-228.8\" font-family=\"Helvetica,sans-Serif\" font-size=\"14.00\" fill=\"#000000\">class = y</text>\n<text text-anchor=\"start\" x=\"1024.5\" y=\"-228.8\" font-family=\"Helvetica,sans-Serif\" baseline-shift=\"sub\" font-size=\"14.00\" fill=\"#000000\">1</text>\n</g>\n<!-- 39&#45;&gt;40 -->\n<g id=\"edge40\" class=\"edge\">\n<title>39&#45;&gt;40</title>\n<path fill=\"none\" stroke=\"#000000\" d=\"M999,-327.7677C999,-317.3338 999,-306.0174 999,-295.4215\"/>\n<polygon fill=\"#000000\" stroke=\"#000000\" points=\"1002.5001,-295.1252 999,-285.1252 995.5001,-295.1252 1002.5001,-295.1252\"/>\n</g>\n<!-- 41 -->\n<g id=\"node42\" class=\"node\">\n<title>41</title>\n<path fill=\"#ea9a61\" stroke=\"#000000\" d=\"M1170,-285C1170,-285 1084,-285 1084,-285 1078,-285 1072,-279 1072,-273 1072,-273 1072,-233 1072,-233 1072,-227 1078,-221 1084,-221 1084,-221 1170,-221 1170,-221 1176,-221 1182,-227 1182,-233 1182,-233 1182,-273 1182,-273 1182,-279 1176,-285 1170,-285\"/>\n<text text-anchor=\"start\" x=\"1080\" y=\"-270.8\" font-family=\"Helvetica,sans-Serif\" font-size=\"14.00\" fill=\"#000000\">entropy = 0.65</text>\n<text text-anchor=\"start\" x=\"1083\" y=\"-256.8\" font-family=\"Helvetica,sans-Serif\" font-size=\"14.00\" fill=\"#000000\">samples = 12</text>\n<text text-anchor=\"start\" x=\"1081.5\" y=\"-242.8\" font-family=\"Helvetica,sans-Serif\" font-size=\"14.00\" fill=\"#000000\">value = [10, 2]</text>\n<text text-anchor=\"start\" x=\"1094.5\" y=\"-228.8\" font-family=\"Helvetica,sans-Serif\" font-size=\"14.00\" fill=\"#000000\">class = y</text>\n<text text-anchor=\"start\" x=\"1152.5\" y=\"-228.8\" font-family=\"Helvetica,sans-Serif\" baseline-shift=\"sub\" font-size=\"14.00\" fill=\"#000000\">0</text>\n</g>\n<!-- 39&#45;&gt;41 -->\n<g id=\"edge41\" class=\"edge\">\n<title>39&#45;&gt;41</title>\n<path fill=\"none\" stroke=\"#000000\" d=\"M1043.0503,-327.7677C1056.1079,-316.1383 1070.3965,-303.4125 1083.4239,-291.81\"/>\n<polygon fill=\"#000000\" stroke=\"#000000\" points=\"1085.7897,-294.3898 1090.9296,-285.1252 1081.1341,-289.1624 1085.7897,-294.3898\"/>\n</g>\n<!-- 45 -->\n<g id=\"node46\" class=\"node\">\n<title>45</title>\n<path fill=\"#a6d3f3\" stroke=\"#000000\" d=\"M1536.5,-634C1536.5,-634 1319.5,-634 1319.5,-634 1313.5,-634 1307.5,-628 1307.5,-622 1307.5,-622 1307.5,-568 1307.5,-568 1307.5,-562 1313.5,-556 1319.5,-556 1319.5,-556 1536.5,-556 1536.5,-556 1542.5,-556 1548.5,-562 1548.5,-568 1548.5,-568 1548.5,-622 1548.5,-622 1548.5,-628 1542.5,-634 1536.5,-634\"/>\n<text text-anchor=\"start\" x=\"1315.5\" y=\"-619.8\" font-family=\"Helvetica,sans-Serif\" font-size=\"14.00\" fill=\"#000000\">DiabetesPedigreeFunction ≤ 0.421</text>\n<text text-anchor=\"start\" x=\"1377\" y=\"-605.8\" font-family=\"Helvetica,sans-Serif\" font-size=\"14.00\" fill=\"#000000\">entropy = 0.938</text>\n<text text-anchor=\"start\" x=\"1384\" y=\"-591.8\" font-family=\"Helvetica,sans-Serif\" font-size=\"14.00\" fill=\"#000000\">samples = 96</text>\n<text text-anchor=\"start\" x=\"1378\" y=\"-577.8\" font-family=\"Helvetica,sans-Serif\" font-size=\"14.00\" fill=\"#000000\">value = [34, 62]</text>\n<text text-anchor=\"start\" x=\"1395.5\" y=\"-563.8\" font-family=\"Helvetica,sans-Serif\" font-size=\"14.00\" fill=\"#000000\">class = y</text>\n<text text-anchor=\"start\" x=\"1453.5\" y=\"-563.8\" font-family=\"Helvetica,sans-Serif\" baseline-shift=\"sub\" font-size=\"14.00\" fill=\"#000000\">1</text>\n</g>\n<!-- 44&#45;&gt;45 -->\n<g id=\"edge45\" class=\"edge\">\n<title>44&#45;&gt;45</title>\n<path fill=\"none\" stroke=\"#000000\" d=\"M1428,-669.7677C1428,-661.6172 1428,-652.9283 1428,-644.4649\"/>\n<polygon fill=\"#000000\" stroke=\"#000000\" points=\"1431.5001,-644.3046 1428,-634.3046 1424.5001,-644.3047 1431.5001,-644.3046\"/>\n</g>\n<!-- 56 -->\n<g id=\"node57\" class=\"node\">\n<title>56</title>\n<path fill=\"#4fa8e8\" stroke=\"#000000\" d=\"M1731,-634C1731,-634 1633,-634 1633,-634 1627,-634 1621,-628 1621,-622 1621,-622 1621,-568 1621,-568 1621,-562 1627,-556 1633,-556 1633,-556 1731,-556 1731,-556 1737,-556 1743,-562 1743,-568 1743,-568 1743,-622 1743,-622 1743,-628 1737,-634 1731,-634\"/>\n<text text-anchor=\"start\" x=\"1629\" y=\"-619.8\" font-family=\"Helvetica,sans-Serif\" font-size=\"14.00\" fill=\"#000000\">Glucose ≤ 164.5</text>\n<text text-anchor=\"start\" x=\"1631\" y=\"-605.8\" font-family=\"Helvetica,sans-Serif\" font-size=\"14.00\" fill=\"#000000\">entropy = 0.474</text>\n<text text-anchor=\"start\" x=\"1638\" y=\"-591.8\" font-family=\"Helvetica,sans-Serif\" font-size=\"14.00\" fill=\"#000000\">samples = 59</text>\n<text text-anchor=\"start\" x=\"1636.5\" y=\"-577.8\" font-family=\"Helvetica,sans-Serif\" font-size=\"14.00\" fill=\"#000000\">value = [6, 53]</text>\n<text text-anchor=\"start\" x=\"1649.5\" y=\"-563.8\" font-family=\"Helvetica,sans-Serif\" font-size=\"14.00\" fill=\"#000000\">class = y</text>\n<text text-anchor=\"start\" x=\"1707.5\" y=\"-563.8\" font-family=\"Helvetica,sans-Serif\" baseline-shift=\"sub\" font-size=\"14.00\" fill=\"#000000\">1</text>\n</g>\n<!-- 44&#45;&gt;56 -->\n<g id=\"edge56\" class=\"edge\">\n<title>44&#45;&gt;56</title>\n<path fill=\"none\" stroke=\"#000000\" d=\"M1490.1354,-681.1125C1526.8271,-664.6445 1573.3929,-643.7449 1611.4608,-626.6593\"/>\n<polygon fill=\"#000000\" stroke=\"#000000\" points=\"1613.2547,-629.6906 1620.9448,-622.4027 1610.3884,-623.3043 1613.2547,-629.6906\"/>\n</g>\n<!-- 46 -->\n<g id=\"node47\" class=\"node\">\n<title>46</title>\n<path fill=\"#fefaf7\" stroke=\"#000000\" d=\"M1424,-520C1424,-520 1326,-520 1326,-520 1320,-520 1314,-514 1314,-508 1314,-508 1314,-454 1314,-454 1314,-448 1320,-442 1326,-442 1326,-442 1424,-442 1424,-442 1430,-442 1436,-448 1436,-454 1436,-454 1436,-508 1436,-508 1436,-514 1430,-520 1424,-520\"/>\n<text text-anchor=\"start\" x=\"1322\" y=\"-505.8\" font-family=\"Helvetica,sans-Serif\" font-size=\"14.00\" fill=\"#000000\">Glucose ≤ 130.0</text>\n<text text-anchor=\"start\" x=\"1332.5\" y=\"-491.8\" font-family=\"Helvetica,sans-Serif\" font-size=\"14.00\" fill=\"#000000\">entropy = 1.0</text>\n<text text-anchor=\"start\" x=\"1331\" y=\"-477.8\" font-family=\"Helvetica,sans-Serif\" font-size=\"14.00\" fill=\"#000000\">samples = 47</text>\n<text text-anchor=\"start\" x=\"1325\" y=\"-463.8\" font-family=\"Helvetica,sans-Serif\" font-size=\"14.00\" fill=\"#000000\">value = [24, 23]</text>\n<text text-anchor=\"start\" x=\"1342.5\" y=\"-449.8\" font-family=\"Helvetica,sans-Serif\" font-size=\"14.00\" fill=\"#000000\">class = y</text>\n<text text-anchor=\"start\" x=\"1400.5\" y=\"-449.8\" font-family=\"Helvetica,sans-Serif\" baseline-shift=\"sub\" font-size=\"14.00\" fill=\"#000000\">0</text>\n</g>\n<!-- 45&#45;&gt;46 -->\n<g id=\"edge46\" class=\"edge\">\n<title>45&#45;&gt;46</title>\n<path fill=\"none\" stroke=\"#000000\" d=\"M1409.7604,-555.7677C1405.8462,-547.3485 1401.6649,-538.3548 1397.608,-529.6286\"/>\n<polygon fill=\"#000000\" stroke=\"#000000\" points=\"1400.6628,-527.897 1393.2732,-520.3046 1394.3153,-530.8481 1400.6628,-527.897\"/>\n</g>\n<!-- 51 -->\n<g id=\"node52\" class=\"node\">\n<title>51</title>\n<path fill=\"#6cb6ec\" stroke=\"#000000\" d=\"M1598,-520C1598,-520 1466,-520 1466,-520 1460,-520 1454,-514 1454,-508 1454,-508 1454,-454 1454,-454 1454,-448 1460,-442 1466,-442 1466,-442 1598,-442 1598,-442 1604,-442 1610,-448 1610,-454 1610,-454 1610,-508 1610,-508 1610,-514 1604,-520 1598,-520\"/>\n<text text-anchor=\"start\" x=\"1462\" y=\"-505.8\" font-family=\"Helvetica,sans-Serif\" font-size=\"14.00\" fill=\"#000000\">BloodPressure ≤ 79.0</text>\n<text text-anchor=\"start\" x=\"1485\" y=\"-491.8\" font-family=\"Helvetica,sans-Serif\" font-size=\"14.00\" fill=\"#000000\">entropy = 0.73</text>\n<text text-anchor=\"start\" x=\"1488\" y=\"-477.8\" font-family=\"Helvetica,sans-Serif\" font-size=\"14.00\" fill=\"#000000\">samples = 49</text>\n<text text-anchor=\"start\" x=\"1482\" y=\"-463.8\" font-family=\"Helvetica,sans-Serif\" font-size=\"14.00\" fill=\"#000000\">value = [10, 39]</text>\n<text text-anchor=\"start\" x=\"1499.5\" y=\"-449.8\" font-family=\"Helvetica,sans-Serif\" font-size=\"14.00\" fill=\"#000000\">class = y</text>\n<text text-anchor=\"start\" x=\"1557.5\" y=\"-449.8\" font-family=\"Helvetica,sans-Serif\" baseline-shift=\"sub\" font-size=\"14.00\" fill=\"#000000\">1</text>\n</g>\n<!-- 45&#45;&gt;51 -->\n<g id=\"edge51\" class=\"edge\">\n<title>45&#45;&gt;51</title>\n<path fill=\"none\" stroke=\"#000000\" d=\"M1463.7909,-555.7677C1471.9618,-546.8111 1480.7259,-537.2043 1489.1583,-527.9611\"/>\n<polygon fill=\"#000000\" stroke=\"#000000\" points=\"1491.9892,-530.0512 1496.1431,-520.3046 1486.8178,-525.3335 1491.9892,-530.0512\"/>\n</g>\n<!-- 47 -->\n<g id=\"node48\" class=\"node\">\n<title>47</title>\n<path fill=\"#f1b991\" stroke=\"#000000\" d=\"M1309,-399C1309,-399 1223,-399 1223,-399 1217,-399 1211,-393 1211,-387 1211,-387 1211,-347 1211,-347 1211,-341 1217,-335 1223,-335 1223,-335 1309,-335 1309,-335 1315,-335 1321,-341 1321,-347 1321,-347 1321,-387 1321,-387 1321,-393 1315,-399 1309,-399\"/>\n<text text-anchor=\"start\" x=\"1219\" y=\"-384.8\" font-family=\"Helvetica,sans-Serif\" font-size=\"14.00\" fill=\"#000000\">entropy = 0.89</text>\n<text text-anchor=\"start\" x=\"1222\" y=\"-370.8\" font-family=\"Helvetica,sans-Serif\" font-size=\"14.00\" fill=\"#000000\">samples = 13</text>\n<text text-anchor=\"start\" x=\"1224.5\" y=\"-356.8\" font-family=\"Helvetica,sans-Serif\" font-size=\"14.00\" fill=\"#000000\">value = [9, 4]</text>\n<text text-anchor=\"start\" x=\"1233.5\" y=\"-342.8\" font-family=\"Helvetica,sans-Serif\" font-size=\"14.00\" fill=\"#000000\">class = y</text>\n<text text-anchor=\"start\" x=\"1291.5\" y=\"-342.8\" font-family=\"Helvetica,sans-Serif\" baseline-shift=\"sub\" font-size=\"14.00\" fill=\"#000000\">0</text>\n</g>\n<!-- 46&#45;&gt;47 -->\n<g id=\"edge47\" class=\"edge\">\n<title>46&#45;&gt;47</title>\n<path fill=\"none\" stroke=\"#000000\" d=\"M1337.4884,-441.7677C1326.5769,-430.3556 1314.6559,-417.8878 1303.731,-406.4618\"/>\n<polygon fill=\"#000000\" stroke=\"#000000\" points=\"1306.1568,-403.9342 1296.7162,-399.1252 1301.0973,-408.7718 1306.1568,-403.9342\"/>\n</g>\n<!-- 48 -->\n<g id=\"node49\" class=\"node\">\n<title>48</title>\n<path fill=\"#d5eafa\" stroke=\"#000000\" d=\"M1443,-406C1443,-406 1351,-406 1351,-406 1345,-406 1339,-400 1339,-394 1339,-394 1339,-340 1339,-340 1339,-334 1345,-328 1351,-328 1351,-328 1443,-328 1443,-328 1449,-328 1455,-334 1455,-340 1455,-340 1455,-394 1455,-394 1455,-400 1449,-406 1443,-406\"/>\n<text text-anchor=\"start\" x=\"1362\" y=\"-391.8\" font-family=\"Helvetica,sans-Serif\" font-size=\"14.00\" fill=\"#000000\">BMI ≤ 34.1</text>\n<text text-anchor=\"start\" x=\"1350\" y=\"-377.8\" font-family=\"Helvetica,sans-Serif\" font-size=\"14.00\" fill=\"#000000\">entropy = 0.99</text>\n<text text-anchor=\"start\" x=\"1353\" y=\"-363.8\" font-family=\"Helvetica,sans-Serif\" font-size=\"14.00\" fill=\"#000000\">samples = 34</text>\n<text text-anchor=\"start\" x=\"1347\" y=\"-349.8\" font-family=\"Helvetica,sans-Serif\" font-size=\"14.00\" fill=\"#000000\">value = [15, 19]</text>\n<text text-anchor=\"start\" x=\"1364.5\" y=\"-335.8\" font-family=\"Helvetica,sans-Serif\" font-size=\"14.00\" fill=\"#000000\">class = y</text>\n<text text-anchor=\"start\" x=\"1422.5\" y=\"-335.8\" font-family=\"Helvetica,sans-Serif\" baseline-shift=\"sub\" font-size=\"14.00\" fill=\"#000000\">1</text>\n</g>\n<!-- 46&#45;&gt;48 -->\n<g id=\"edge48\" class=\"edge\">\n<title>46&#45;&gt;48</title>\n<path fill=\"none\" stroke=\"#000000\" d=\"M1382.5712,-441.7677C1384.1613,-433.5277 1385.8577,-424.7372 1387.508,-416.1859\"/>\n<polygon fill=\"#000000\" stroke=\"#000000\" points=\"1390.9565,-416.7867 1389.4149,-406.3046 1384.0834,-415.4603 1390.9565,-416.7867\"/>\n</g>\n<!-- 49 -->\n<g id=\"node50\" class=\"node\">\n<title>49</title>\n<path fill=\"#f3c7a7\" stroke=\"#000000\" d=\"M1309,-285C1309,-285 1223,-285 1223,-285 1217,-285 1211,-279 1211,-273 1211,-273 1211,-233 1211,-233 1211,-227 1217,-221 1223,-221 1223,-221 1309,-221 1309,-221 1315,-221 1321,-227 1321,-233 1321,-233 1321,-273 1321,-273 1321,-279 1315,-285 1309,-285\"/>\n<text text-anchor=\"start\" x=\"1219\" y=\"-270.8\" font-family=\"Helvetica,sans-Serif\" font-size=\"14.00\" fill=\"#000000\">entropy = 0.94</text>\n<text text-anchor=\"start\" x=\"1222\" y=\"-256.8\" font-family=\"Helvetica,sans-Serif\" font-size=\"14.00\" fill=\"#000000\">samples = 14</text>\n<text text-anchor=\"start\" x=\"1224.5\" y=\"-242.8\" font-family=\"Helvetica,sans-Serif\" font-size=\"14.00\" fill=\"#000000\">value = [9, 5]</text>\n<text text-anchor=\"start\" x=\"1233.5\" y=\"-228.8\" font-family=\"Helvetica,sans-Serif\" font-size=\"14.00\" fill=\"#000000\">class = y</text>\n<text text-anchor=\"start\" x=\"1291.5\" y=\"-228.8\" font-family=\"Helvetica,sans-Serif\" baseline-shift=\"sub\" font-size=\"14.00\" fill=\"#000000\">0</text>\n</g>\n<!-- 48&#45;&gt;49 -->\n<g id=\"edge49\" class=\"edge\">\n<title>48&#45;&gt;49</title>\n<path fill=\"none\" stroke=\"#000000\" d=\"M1351.9172,-327.7677C1338.5536,-316.1383 1323.9301,-303.4125 1310.5975,-291.81\"/>\n<polygon fill=\"#000000\" stroke=\"#000000\" points=\"1312.757,-289.0496 1302.9158,-285.1252 1308.1618,-294.3301 1312.757,-289.0496\"/>\n</g>\n<!-- 50 -->\n<g id=\"node51\" class=\"node\">\n<title>50</title>\n<path fill=\"#8ec7f0\" stroke=\"#000000\" d=\"M1445,-285C1445,-285 1351,-285 1351,-285 1345,-285 1339,-279 1339,-273 1339,-273 1339,-233 1339,-233 1339,-227 1345,-221 1351,-221 1351,-221 1445,-221 1445,-221 1451,-221 1457,-227 1457,-233 1457,-233 1457,-273 1457,-273 1457,-279 1451,-285 1445,-285\"/>\n<text text-anchor=\"start\" x=\"1347\" y=\"-270.8\" font-family=\"Helvetica,sans-Serif\" font-size=\"14.00\" fill=\"#000000\">entropy = 0.881</text>\n<text text-anchor=\"start\" x=\"1354\" y=\"-256.8\" font-family=\"Helvetica,sans-Serif\" font-size=\"14.00\" fill=\"#000000\">samples = 20</text>\n<text text-anchor=\"start\" x=\"1352.5\" y=\"-242.8\" font-family=\"Helvetica,sans-Serif\" font-size=\"14.00\" fill=\"#000000\">value = [6, 14]</text>\n<text text-anchor=\"start\" x=\"1365.5\" y=\"-228.8\" font-family=\"Helvetica,sans-Serif\" font-size=\"14.00\" fill=\"#000000\">class = y</text>\n<text text-anchor=\"start\" x=\"1423.5\" y=\"-228.8\" font-family=\"Helvetica,sans-Serif\" baseline-shift=\"sub\" font-size=\"14.00\" fill=\"#000000\">1</text>\n</g>\n<!-- 48&#45;&gt;50 -->\n<g id=\"edge50\" class=\"edge\">\n<title>48&#45;&gt;50</title>\n<path fill=\"none\" stroke=\"#000000\" d=\"M1397.3441,-327.7677C1397.4357,-317.3338 1397.5349,-306.0174 1397.6279,-295.4215\"/>\n<polygon fill=\"#000000\" stroke=\"#000000\" points=\"1401.1303,-295.1555 1397.7182,-285.1252 1394.1305,-295.0941 1401.1303,-295.1555\"/>\n</g>\n<!-- 52 -->\n<g id=\"node53\" class=\"node\">\n<title>52</title>\n<path fill=\"#49a5e7\" stroke=\"#000000\" d=\"M1579,-406C1579,-406 1485,-406 1485,-406 1479,-406 1473,-400 1473,-394 1473,-394 1473,-340 1473,-340 1473,-334 1479,-328 1485,-328 1485,-328 1579,-328 1579,-328 1585,-328 1591,-334 1591,-340 1591,-340 1591,-394 1591,-394 1591,-400 1585,-406 1579,-406\"/>\n<text text-anchor=\"start\" x=\"1497\" y=\"-391.8\" font-family=\"Helvetica,sans-Serif\" font-size=\"14.00\" fill=\"#000000\">Age ≤ 29.5</text>\n<text text-anchor=\"start\" x=\"1481\" y=\"-377.8\" font-family=\"Helvetica,sans-Serif\" font-size=\"14.00\" fill=\"#000000\">entropy = 0.381</text>\n<text text-anchor=\"start\" x=\"1488\" y=\"-363.8\" font-family=\"Helvetica,sans-Serif\" font-size=\"14.00\" fill=\"#000000\">samples = 27</text>\n<text text-anchor=\"start\" x=\"1486.5\" y=\"-349.8\" font-family=\"Helvetica,sans-Serif\" font-size=\"14.00\" fill=\"#000000\">value = [2, 25]</text>\n<text text-anchor=\"start\" x=\"1499.5\" y=\"-335.8\" font-family=\"Helvetica,sans-Serif\" font-size=\"14.00\" fill=\"#000000\">class = y</text>\n<text text-anchor=\"start\" x=\"1557.5\" y=\"-335.8\" font-family=\"Helvetica,sans-Serif\" baseline-shift=\"sub\" font-size=\"14.00\" fill=\"#000000\">1</text>\n</g>\n<!-- 51&#45;&gt;52 -->\n<g id=\"edge52\" class=\"edge\">\n<title>51&#45;&gt;52</title>\n<path fill=\"none\" stroke=\"#000000\" d=\"M1532,-441.7677C1532,-433.6172 1532,-424.9283 1532,-416.4649\"/>\n<polygon fill=\"#000000\" stroke=\"#000000\" points=\"1535.5001,-416.3046 1532,-406.3046 1528.5001,-416.3047 1535.5001,-416.3046\"/>\n</g>\n<!-- 55 -->\n<g id=\"node56\" class=\"node\">\n<title>55</title>\n<path fill=\"#aad5f4\" stroke=\"#000000\" d=\"M1715,-399C1715,-399 1621,-399 1621,-399 1615,-399 1609,-393 1609,-387 1609,-387 1609,-347 1609,-347 1609,-341 1615,-335 1621,-335 1621,-335 1715,-335 1715,-335 1721,-335 1727,-341 1727,-347 1727,-347 1727,-387 1727,-387 1727,-393 1721,-399 1715,-399\"/>\n<text text-anchor=\"start\" x=\"1617\" y=\"-384.8\" font-family=\"Helvetica,sans-Serif\" font-size=\"14.00\" fill=\"#000000\">entropy = 0.946</text>\n<text text-anchor=\"start\" x=\"1624\" y=\"-370.8\" font-family=\"Helvetica,sans-Serif\" font-size=\"14.00\" fill=\"#000000\">samples = 22</text>\n<text text-anchor=\"start\" x=\"1622.5\" y=\"-356.8\" font-family=\"Helvetica,sans-Serif\" font-size=\"14.00\" fill=\"#000000\">value = [8, 14]</text>\n<text text-anchor=\"start\" x=\"1635.5\" y=\"-342.8\" font-family=\"Helvetica,sans-Serif\" font-size=\"14.00\" fill=\"#000000\">class = y</text>\n<text text-anchor=\"start\" x=\"1693.5\" y=\"-342.8\" font-family=\"Helvetica,sans-Serif\" baseline-shift=\"sub\" font-size=\"14.00\" fill=\"#000000\">1</text>\n</g>\n<!-- 51&#45;&gt;55 -->\n<g id=\"edge55\" class=\"edge\">\n<title>51&#45;&gt;55</title>\n<path fill=\"none\" stroke=\"#000000\" d=\"M1578.8035,-441.7677C1592.6772,-430.1383 1607.8588,-417.4125 1621.7004,-405.81\"/>\n<polygon fill=\"#000000\" stroke=\"#000000\" points=\"1624.2599,-408.2315 1629.6752,-399.1252 1619.7631,-402.8669 1624.2599,-408.2315\"/>\n</g>\n<!-- 53 -->\n<g id=\"node54\" class=\"node\">\n<title>53</title>\n<path fill=\"#61b1ea\" stroke=\"#000000\" d=\"M1574,-285C1574,-285 1488,-285 1488,-285 1482,-285 1476,-279 1476,-273 1476,-273 1476,-233 1476,-233 1476,-227 1482,-221 1488,-221 1488,-221 1574,-221 1574,-221 1580,-221 1586,-227 1586,-233 1586,-233 1586,-273 1586,-273 1586,-279 1580,-285 1574,-285\"/>\n<text text-anchor=\"start\" x=\"1484\" y=\"-270.8\" font-family=\"Helvetica,sans-Serif\" font-size=\"14.00\" fill=\"#000000\">entropy = 0.65</text>\n<text text-anchor=\"start\" x=\"1487\" y=\"-256.8\" font-family=\"Helvetica,sans-Serif\" font-size=\"14.00\" fill=\"#000000\">samples = 12</text>\n<text text-anchor=\"start\" x=\"1485.5\" y=\"-242.8\" font-family=\"Helvetica,sans-Serif\" font-size=\"14.00\" fill=\"#000000\">value = [2, 10]</text>\n<text text-anchor=\"start\" x=\"1498.5\" y=\"-228.8\" font-family=\"Helvetica,sans-Serif\" font-size=\"14.00\" fill=\"#000000\">class = y</text>\n<text text-anchor=\"start\" x=\"1556.5\" y=\"-228.8\" font-family=\"Helvetica,sans-Serif\" baseline-shift=\"sub\" font-size=\"14.00\" fill=\"#000000\">1</text>\n</g>\n<!-- 52&#45;&gt;53 -->\n<g id=\"edge53\" class=\"edge\">\n<title>52&#45;&gt;53</title>\n<path fill=\"none\" stroke=\"#000000\" d=\"M1531.6559,-327.7677C1531.5643,-317.3338 1531.4651,-306.0174 1531.3721,-295.4215\"/>\n<polygon fill=\"#000000\" stroke=\"#000000\" points=\"1534.8695,-295.0941 1531.2818,-285.1252 1527.8697,-295.1555 1534.8695,-295.0941\"/>\n</g>\n<!-- 54 -->\n<g id=\"node55\" class=\"node\">\n<title>54</title>\n<path fill=\"#399de5\" stroke=\"#000000\" d=\"M1699.5,-285C1699.5,-285 1616.5,-285 1616.5,-285 1610.5,-285 1604.5,-279 1604.5,-273 1604.5,-273 1604.5,-233 1604.5,-233 1604.5,-227 1610.5,-221 1616.5,-221 1616.5,-221 1699.5,-221 1699.5,-221 1705.5,-221 1711.5,-227 1711.5,-233 1711.5,-233 1711.5,-273 1711.5,-273 1711.5,-279 1705.5,-285 1699.5,-285\"/>\n<text text-anchor=\"start\" x=\"1615.5\" y=\"-270.8\" font-family=\"Helvetica,sans-Serif\" font-size=\"14.00\" fill=\"#000000\">entropy = 0.0</text>\n<text text-anchor=\"start\" x=\"1614\" y=\"-256.8\" font-family=\"Helvetica,sans-Serif\" font-size=\"14.00\" fill=\"#000000\">samples = 15</text>\n<text text-anchor=\"start\" x=\"1612.5\" y=\"-242.8\" font-family=\"Helvetica,sans-Serif\" font-size=\"14.00\" fill=\"#000000\">value = [0, 15]</text>\n<text text-anchor=\"start\" x=\"1625.5\" y=\"-228.8\" font-family=\"Helvetica,sans-Serif\" font-size=\"14.00\" fill=\"#000000\">class = y</text>\n<text text-anchor=\"start\" x=\"1683.5\" y=\"-228.8\" font-family=\"Helvetica,sans-Serif\" baseline-shift=\"sub\" font-size=\"14.00\" fill=\"#000000\">1</text>\n</g>\n<!-- 52&#45;&gt;54 -->\n<g id=\"edge54\" class=\"edge\">\n<title>52&#45;&gt;54</title>\n<path fill=\"none\" stroke=\"#000000\" d=\"M1575.3621,-327.7677C1588.0955,-316.247 1602.0181,-303.6503 1614.7449,-292.1356\"/>\n<polygon fill=\"#000000\" stroke=\"#000000\" points=\"1617.426,-294.4297 1622.4932,-285.1252 1612.7296,-289.239 1617.426,-294.4297\"/>\n</g>\n<!-- 57 -->\n<g id=\"node58\" class=\"node\">\n<title>57</title>\n<path fill=\"#399de5\" stroke=\"#000000\" d=\"M1723.5,-513C1723.5,-513 1640.5,-513 1640.5,-513 1634.5,-513 1628.5,-507 1628.5,-501 1628.5,-501 1628.5,-461 1628.5,-461 1628.5,-455 1634.5,-449 1640.5,-449 1640.5,-449 1723.5,-449 1723.5,-449 1729.5,-449 1735.5,-455 1735.5,-461 1735.5,-461 1735.5,-501 1735.5,-501 1735.5,-507 1729.5,-513 1723.5,-513\"/>\n<text text-anchor=\"start\" x=\"1639.5\" y=\"-498.8\" font-family=\"Helvetica,sans-Serif\" font-size=\"14.00\" fill=\"#000000\">entropy = 0.0</text>\n<text text-anchor=\"start\" x=\"1638\" y=\"-484.8\" font-family=\"Helvetica,sans-Serif\" font-size=\"14.00\" fill=\"#000000\">samples = 15</text>\n<text text-anchor=\"start\" x=\"1636.5\" y=\"-470.8\" font-family=\"Helvetica,sans-Serif\" font-size=\"14.00\" fill=\"#000000\">value = [0, 15]</text>\n<text text-anchor=\"start\" x=\"1649.5\" y=\"-456.8\" font-family=\"Helvetica,sans-Serif\" font-size=\"14.00\" fill=\"#000000\">class = y</text>\n<text text-anchor=\"start\" x=\"1707.5\" y=\"-456.8\" font-family=\"Helvetica,sans-Serif\" baseline-shift=\"sub\" font-size=\"14.00\" fill=\"#000000\">1</text>\n</g>\n<!-- 56&#45;&gt;57 -->\n<g id=\"edge57\" class=\"edge\">\n<title>56&#45;&gt;57</title>\n<path fill=\"none\" stroke=\"#000000\" d=\"M1682,-555.7677C1682,-545.3338 1682,-534.0174 1682,-523.4215\"/>\n<polygon fill=\"#000000\" stroke=\"#000000\" points=\"1685.5001,-523.1252 1682,-513.1252 1678.5001,-523.1252 1685.5001,-523.1252\"/>\n</g>\n<!-- 58 -->\n<g id=\"node59\" class=\"node\">\n<title>58</title>\n<path fill=\"#58ace9\" stroke=\"#000000\" d=\"M1966,-520C1966,-520 1766,-520 1766,-520 1760,-520 1754,-514 1754,-508 1754,-508 1754,-454 1754,-454 1754,-448 1760,-442 1766,-442 1766,-442 1966,-442 1966,-442 1972,-442 1978,-448 1978,-454 1978,-454 1978,-508 1978,-508 1978,-514 1972,-520 1966,-520\"/>\n<text text-anchor=\"start\" x=\"1762\" y=\"-505.8\" font-family=\"Helvetica,sans-Serif\" font-size=\"14.00\" fill=\"#000000\">DiabetesPedigreeFunction ≤ 0.3</text>\n<text text-anchor=\"start\" x=\"1815\" y=\"-491.8\" font-family=\"Helvetica,sans-Serif\" font-size=\"14.00\" fill=\"#000000\">entropy = 0.575</text>\n<text text-anchor=\"start\" x=\"1822\" y=\"-477.8\" font-family=\"Helvetica,sans-Serif\" font-size=\"14.00\" fill=\"#000000\">samples = 44</text>\n<text text-anchor=\"start\" x=\"1820.5\" y=\"-463.8\" font-family=\"Helvetica,sans-Serif\" font-size=\"14.00\" fill=\"#000000\">value = [6, 38]</text>\n<text text-anchor=\"start\" x=\"1833.5\" y=\"-449.8\" font-family=\"Helvetica,sans-Serif\" font-size=\"14.00\" fill=\"#000000\">class = y</text>\n<text text-anchor=\"start\" x=\"1891.5\" y=\"-449.8\" font-family=\"Helvetica,sans-Serif\" baseline-shift=\"sub\" font-size=\"14.00\" fill=\"#000000\">1</text>\n</g>\n<!-- 56&#45;&gt;58 -->\n<g id=\"edge58\" class=\"edge\">\n<title>56&#45;&gt;58</title>\n<path fill=\"none\" stroke=\"#000000\" d=\"M1743.0138,-557.198C1759.405,-547.0426 1777.282,-535.9666 1794.2003,-525.4846\"/>\n<polygon fill=\"#000000\" stroke=\"#000000\" points=\"1796.2898,-528.3074 1802.9471,-520.0654 1792.6031,-522.3569 1796.2898,-528.3074\"/>\n</g>\n<!-- 59 -->\n<g id=\"node60\" class=\"node\">\n<title>59</title>\n<path fill=\"#7bbeee\" stroke=\"#000000\" d=\"M1882,-399C1882,-399 1788,-399 1788,-399 1782,-399 1776,-393 1776,-387 1776,-387 1776,-347 1776,-347 1776,-341 1782,-335 1788,-335 1788,-335 1882,-335 1882,-335 1888,-335 1894,-341 1894,-347 1894,-347 1894,-387 1894,-387 1894,-393 1888,-399 1882,-399\"/>\n<text text-anchor=\"start\" x=\"1784\" y=\"-384.8\" font-family=\"Helvetica,sans-Serif\" font-size=\"14.00\" fill=\"#000000\">entropy = 0.811</text>\n<text text-anchor=\"start\" x=\"1791\" y=\"-370.8\" font-family=\"Helvetica,sans-Serif\" font-size=\"14.00\" fill=\"#000000\">samples = 12</text>\n<text text-anchor=\"start\" x=\"1793.5\" y=\"-356.8\" font-family=\"Helvetica,sans-Serif\" font-size=\"14.00\" fill=\"#000000\">value = [3, 9]</text>\n<text text-anchor=\"start\" x=\"1802.5\" y=\"-342.8\" font-family=\"Helvetica,sans-Serif\" font-size=\"14.00\" fill=\"#000000\">class = y</text>\n<text text-anchor=\"start\" x=\"1860.5\" y=\"-342.8\" font-family=\"Helvetica,sans-Serif\" baseline-shift=\"sub\" font-size=\"14.00\" fill=\"#000000\">1</text>\n</g>\n<!-- 58&#45;&gt;59 -->\n<g id=\"edge59\" class=\"edge\">\n<title>58&#45;&gt;59</title>\n<path fill=\"none\" stroke=\"#000000\" d=\"M1855.3316,-441.7677C1852.4647,-431.2251 1849.3529,-419.7816 1846.4457,-409.0907\"/>\n<polygon fill=\"#000000\" stroke=\"#000000\" points=\"1849.7372,-407.8564 1843.7358,-399.1252 1842.9825,-409.6932 1849.7372,-407.8564\"/>\n</g>\n<!-- 60 -->\n<g id=\"node61\" class=\"node\">\n<title>60</title>\n<path fill=\"#4da7e8\" stroke=\"#000000\" d=\"M2141.5,-406C2141.5,-406 1924.5,-406 1924.5,-406 1918.5,-406 1912.5,-400 1912.5,-394 1912.5,-394 1912.5,-340 1912.5,-340 1912.5,-334 1918.5,-328 1924.5,-328 1924.5,-328 2141.5,-328 2141.5,-328 2147.5,-328 2153.5,-334 2153.5,-340 2153.5,-340 2153.5,-394 2153.5,-394 2153.5,-400 2147.5,-406 2141.5,-406\"/>\n<text text-anchor=\"start\" x=\"1920.5\" y=\"-391.8\" font-family=\"Helvetica,sans-Serif\" font-size=\"14.00\" fill=\"#000000\">DiabetesPedigreeFunction ≤ 0.612</text>\n<text text-anchor=\"start\" x=\"1982\" y=\"-377.8\" font-family=\"Helvetica,sans-Serif\" font-size=\"14.00\" fill=\"#000000\">entropy = 0.449</text>\n<text text-anchor=\"start\" x=\"1989\" y=\"-363.8\" font-family=\"Helvetica,sans-Serif\" font-size=\"14.00\" fill=\"#000000\">samples = 32</text>\n<text text-anchor=\"start\" x=\"1987.5\" y=\"-349.8\" font-family=\"Helvetica,sans-Serif\" font-size=\"14.00\" fill=\"#000000\">value = [3, 29]</text>\n<text text-anchor=\"start\" x=\"2000.5\" y=\"-335.8\" font-family=\"Helvetica,sans-Serif\" font-size=\"14.00\" fill=\"#000000\">class = y</text>\n<text text-anchor=\"start\" x=\"2058.5\" y=\"-335.8\" font-family=\"Helvetica,sans-Serif\" baseline-shift=\"sub\" font-size=\"14.00\" fill=\"#000000\">1</text>\n</g>\n<!-- 58&#45;&gt;60 -->\n<g id=\"edge60\" class=\"edge\">\n<title>58&#45;&gt;60</title>\n<path fill=\"none\" stroke=\"#000000\" d=\"M1923.4719,-441.7677C1937.5898,-432.1303 1952.8106,-421.7401 1967.2839,-411.8601\"/>\n<polygon fill=\"#000000\" stroke=\"#000000\" points=\"1969.4193,-414.6402 1975.7051,-406.1115 1965.4727,-408.8588 1969.4193,-414.6402\"/>\n</g>\n<!-- 61 -->\n<g id=\"node62\" class=\"node\">\n<title>61</title>\n<path fill=\"#399de5\" stroke=\"#000000\" d=\"M2010.5,-285C2010.5,-285 1927.5,-285 1927.5,-285 1921.5,-285 1915.5,-279 1915.5,-273 1915.5,-273 1915.5,-233 1915.5,-233 1915.5,-227 1921.5,-221 1927.5,-221 1927.5,-221 2010.5,-221 2010.5,-221 2016.5,-221 2022.5,-227 2022.5,-233 2022.5,-233 2022.5,-273 2022.5,-273 2022.5,-279 2016.5,-285 2010.5,-285\"/>\n<text text-anchor=\"start\" x=\"1926.5\" y=\"-270.8\" font-family=\"Helvetica,sans-Serif\" font-size=\"14.00\" fill=\"#000000\">entropy = 0.0</text>\n<text text-anchor=\"start\" x=\"1925\" y=\"-256.8\" font-family=\"Helvetica,sans-Serif\" font-size=\"14.00\" fill=\"#000000\">samples = 18</text>\n<text text-anchor=\"start\" x=\"1923.5\" y=\"-242.8\" font-family=\"Helvetica,sans-Serif\" font-size=\"14.00\" fill=\"#000000\">value = [0, 18]</text>\n<text text-anchor=\"start\" x=\"1936.5\" y=\"-228.8\" font-family=\"Helvetica,sans-Serif\" font-size=\"14.00\" fill=\"#000000\">class = y</text>\n<text text-anchor=\"start\" x=\"1994.5\" y=\"-228.8\" font-family=\"Helvetica,sans-Serif\" baseline-shift=\"sub\" font-size=\"14.00\" fill=\"#000000\">1</text>\n</g>\n<!-- 60&#45;&gt;61 -->\n<g id=\"edge61\" class=\"edge\">\n<title>60&#45;&gt;61</title>\n<path fill=\"none\" stroke=\"#000000\" d=\"M2010.9748,-327.7677C2004.8732,-316.8991 1998.2339,-305.0729 1992.0742,-294.1009\"/>\n<polygon fill=\"#000000\" stroke=\"#000000\" points=\"1994.9825,-292.1317 1987.0352,-285.1252 1988.8786,-295.5584 1994.9825,-292.1317\"/>\n</g>\n<!-- 62 -->\n<g id=\"node63\" class=\"node\">\n<title>62</title>\n<path fill=\"#6fb8ec\" stroke=\"#000000\" d=\"M2139,-285C2139,-285 2053,-285 2053,-285 2047,-285 2041,-279 2041,-273 2041,-273 2041,-233 2041,-233 2041,-227 2047,-221 2053,-221 2053,-221 2139,-221 2139,-221 2145,-221 2151,-227 2151,-233 2151,-233 2151,-273 2151,-273 2151,-279 2145,-285 2139,-285\"/>\n<text text-anchor=\"start\" x=\"2049\" y=\"-270.8\" font-family=\"Helvetica,sans-Serif\" font-size=\"14.00\" fill=\"#000000\">entropy = 0.75</text>\n<text text-anchor=\"start\" x=\"2052\" y=\"-256.8\" font-family=\"Helvetica,sans-Serif\" font-size=\"14.00\" fill=\"#000000\">samples = 14</text>\n<text text-anchor=\"start\" x=\"2050.5\" y=\"-242.8\" font-family=\"Helvetica,sans-Serif\" font-size=\"14.00\" fill=\"#000000\">value = [3, 11]</text>\n<text text-anchor=\"start\" x=\"2063.5\" y=\"-228.8\" font-family=\"Helvetica,sans-Serif\" font-size=\"14.00\" fill=\"#000000\">class = y</text>\n<text text-anchor=\"start\" x=\"2121.5\" y=\"-228.8\" font-family=\"Helvetica,sans-Serif\" baseline-shift=\"sub\" font-size=\"14.00\" fill=\"#000000\">1</text>\n</g>\n<!-- 60&#45;&gt;62 -->\n<g id=\"edge62\" class=\"edge\">\n<title>60&#45;&gt;62</title>\n<path fill=\"none\" stroke=\"#000000\" d=\"M2054.681,-327.7677C2060.6874,-316.8991 2067.2229,-305.0729 2073.2863,-294.1009\"/>\n<polygon fill=\"#000000\" stroke=\"#000000\" points=\"2076.473,-295.5705 2078.2466,-285.1252 2070.3463,-292.1847 2076.473,-295.5705\"/>\n</g>\n</g>\n</svg>\n"
          },
          "metadata": {},
          "execution_count": 356
        }
      ],
      "source": [
        "graph"
      ]
    },
    {
      "cell_type": "markdown",
      "metadata": {
        "id": "xJw37cn5ZHr6"
      },
      "source": [
        "## Métricas"
      ]
    },
    {
      "cell_type": "code",
      "execution_count": 357,
      "metadata": {
        "id": "4AmBMrzuEAJK"
      },
      "outputs": [],
      "source": [
        "# importar librerias para métricas\n",
        "from sklearn.metrics import accuracy_score"
      ]
    },
    {
      "cell_type": "markdown",
      "metadata": {
        "id": "by5O43CmZHr7"
      },
      "source": [
        "### Exactitud"
      ]
    },
    {
      "cell_type": "code",
      "execution_count": 358,
      "metadata": {
        "colab": {
          "base_uri": "https://localhost:8080/"
        },
        "id": "lJxKUQU3ZHr7",
        "outputId": "1621ec3f-bce7-4098-e364-97753855aef2"
      },
      "outputs": [
        {
          "output_type": "stream",
          "name": "stdout",
          "text": [
            "Exactitud (conjunto de entrenamiento):  0.851027397260274\n",
            "Exactitud (conjunto de prueba):  0.7619047619047619\n"
          ]
        }
      ],
      "source": [
        "print(\"Exactitud (conjunto de entrenamiento): \", accuracy_score(y_entrenamiento, predicciones_entrenamiento))\n",
        "print(\"Exactitud (conjunto de prueba): \", accuracy_score(y_prueba, predicciones_prueba))"
      ]
    },
    {
      "cell_type": "markdown",
      "source": [
        "### Creando un nuevo paciente"
      ],
      "metadata": {
        "id": "mxAlZvEPWeOG"
      }
    },
    {
      "cell_type": "markdown",
      "source": [
        "vemos que este modelo no está sobre ajustado (el sobre ajuste es que las metricas de entrenamiento sean muy buenas o altas y que las metricas para los datos de prueba salgan bajas o malas), por lo que nos sirve para hacer nuevas predicciones"
      ],
      "metadata": {
        "id": "HFksjJ1hTKXI"
      }
    },
    {
      "cell_type": "code",
      "source": [
        "nuevoPaciente = np.array([196, 76, 280, 37, 0.605, 57]).reshape(1, -1)\n",
        "prediccionNuevoPaciente = tree.predict(nuevoPaciente)\n",
        "prediccionNuevoPaciente"
      ],
      "metadata": {
        "colab": {
          "base_uri": "https://localhost:8080/"
        },
        "id": "GTHY0mJ5UpMg",
        "outputId": "635ac09b-5c2e-4b66-929c-9a7c7db0c28c"
      },
      "execution_count": 359,
      "outputs": [
        {
          "output_type": "execute_result",
          "data": {
            "text/plain": [
              "array([1])"
            ]
          },
          "metadata": {},
          "execution_count": 359
        }
      ]
    }
  ]
}